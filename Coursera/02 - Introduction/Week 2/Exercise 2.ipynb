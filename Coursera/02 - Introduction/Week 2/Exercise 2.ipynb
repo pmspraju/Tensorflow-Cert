{
 "cells": [
  {
   "cell_type": "code",
   "execution_count": null,
   "metadata": {
    "id": "zX4Kg8DUTKWO"
   },
   "outputs": [],
   "source": [
    "#@title Licensed under the Apache License, Version 2.0 (the \"License\");\n",
    "# you may not use this file except in compliance with the License.\n",
    "# You may obtain a copy of the License at\n",
    "#\n",
    "# https://www.apache.org/licenses/LICENSE-2.0\n",
    "#\n",
    "# Unless required by applicable law or agreed to in writing, software\n",
    "# distributed under the License is distributed on an \"AS IS\" BASIS,\n",
    "# WITHOUT WARRANTIES OR CONDITIONS OF ANY KIND, either express or implied.\n",
    "# See the License for the specific language governing permissions and\n",
    "# limitations under the License."
   ]
  },
  {
   "cell_type": "markdown",
   "metadata": {
    "id": "tOoyQ70H00_s"
   },
   "source": [
    "## Exercise 2\n",
    "In the course you learned how to do classification using Fashion MNIST, a data set containing items of clothing. There's another, similar dataset called MNIST which has items of handwriting -- the digits 0 through 9.\n",
    "\n",
    "Write an MNIST classifier that trains to 99% accuracy or above, and does it without a fixed number of epochs -- i.e. you should stop training once you reach that level of accuracy.\n",
    "\n",
    "Some notes:\n",
    "1. It should succeed in less than 10 epochs, so it is okay to change epochs to 10, but nothing larger\n",
    "2. When it reaches 99% or greater it should print out the string \"Reached 99% accuracy so cancelling training!\"\n",
    "3. If you add any additional variables, make sure you use the same names as the ones used in the class\n",
    "\n",
    "I've started the code for you below -- how would you finish it? "
   ]
  },
  {
   "cell_type": "code",
   "execution_count": 3,
   "metadata": {
    "colab": {
     "base_uri": "https://localhost:8080/"
    },
    "id": "9rvXQGAA0ssC",
    "outputId": "c4b2a897-e28c-49b5-ecc3-167b723f5011"
   },
   "outputs": [
    {
     "name": "stdout",
     "output_type": "stream",
     "text": [
      "Shape of mnist train data (60000, 28, 28).\n",
      "Shape of mnist test data (10000, 28, 28).\n",
      "Epoch 1/10\n",
      "1875/1875 [==============================] - 3s 2ms/step - loss: 0.2552 - accuracy: 0.9261\n",
      "Epoch 2/10\n",
      "1875/1875 [==============================] - 3s 2ms/step - loss: 0.1100 - accuracy: 0.9671\n",
      "Epoch 3/10\n",
      "1875/1875 [==============================] - 3s 2ms/step - loss: 0.0760 - accuracy: 0.9776\n",
      "Epoch 4/10\n",
      "1875/1875 [==============================] - 3s 2ms/step - loss: 0.0584 - accuracy: 0.9819\n",
      "Epoch 5/10\n",
      "1875/1875 [==============================] - 3s 2ms/step - loss: 0.0437 - accuracy: 0.9868\n",
      "Epoch 6/10\n",
      "1875/1875 [==============================] - 3s 2ms/step - loss: 0.0359 - accuracy: 0.9885\n",
      "Epoch 7/10\n",
      "1856/1875 [============================>.] - ETA: 0s - loss: 0.0293 - accuracy: 0.9910\n",
      "Reached 99% accuracy so cancelling training!\n",
      "1875/1875 [==============================] - 3s 2ms/step - loss: 0.0294 - accuracy: 0.9910\n"
     ]
    }
   ],
   "source": [
    "# YOUR CODE SHOULD START HERE\n",
    "# YOUR CODE SHOULD END HERE\n",
    "import tensorflow as tf\n",
    "mnist = tf.keras.datasets.mnist\n",
    "\n",
    "class myCallback(tf.keras.callbacks.Callback):\n",
    "      def on_epoch_end(self, epoch, logs={}):\n",
    "        if(logs.get('loss')<0.03):\n",
    "          print(\"\\nReached 99% accuracy so cancelling training!\")\n",
    "          self.model.stop_training = True\n",
    "\n",
    "# YOUR CODE SHOULD END HERE\n",
    "callbacks = myCallback()\n",
    "\n",
    "(x_train, y_train),(x_test, y_test) = mnist.load_data()\n",
    "# YOUR CODE SHOULD START HERE\n",
    "x_train  = x_train / 255.0\n",
    "x_test = x_test / 255.0\n",
    "print('Shape of mnist train data {}.'.format(x_train.shape))\n",
    "print('Shape of mnist test data {}.'.format(x_test.shape))\n",
    "\n",
    "# YOUR CODE SHOULD END HERE\n",
    "model = tf.keras.models.Sequential([\n",
    "# YOUR CODE SHOULD START HERE\n",
    "tf.keras.layers.Flatten(), \n",
    "tf.keras.layers.Dense(128, activation=tf.nn.relu), \n",
    "tf.keras.layers.Dense(10, activation=tf.nn.softmax)    \n",
    "# YOUR CODE SHOULD END HERE\n",
    "])\n",
    "\n",
    "model.compile(optimizer='adam',\n",
    "              loss='sparse_categorical_crossentropy',\n",
    "              metrics=['accuracy'])\n",
    "\n",
    "# YOUR CODE SHOULD START HERE\n",
    "# model fitting\n",
    "history = model.fit(x_train, y_train, epochs=10, callbacks=[callbacks])\n",
    "# YOUR CODE SHOULD END HERE\n",
    "# model fitting\n",
    "#print(history.epoch)\n",
    "#print(history.history['acc'][-1])"
   ]
  }
 ],
 "metadata": {
  "colab": {
   "collapsed_sections": [],
   "name": "Exercise2-Question.ipynb",
   "provenance": [],
   "toc_visible": true
  },
  "kernelspec": {
   "display_name": "Python 3",
   "language": "python",
   "name": "python3"
  },
  "language_info": {
   "codemirror_mode": {
    "name": "ipython",
    "version": 3
   },
   "file_extension": ".py",
   "mimetype": "text/x-python",
   "name": "python",
   "nbconvert_exporter": "python",
   "pygments_lexer": "ipython3",
   "version": "3.6.10"
  }
 },
 "nbformat": 4,
 "nbformat_minor": 1
}
