{
 "cells": [
  {
   "cell_type": "code",
   "execution_count": null,
   "metadata": {
    "id": "zX4Kg8DUTKWO"
   },
   "outputs": [],
   "source": [
    "#@title Licensed under the Apache License, Version 2.0 (the \"License\");\n",
    "# you may not use this file except in compliance with the License.\n",
    "# You may obtain a copy of the License at\n",
    "#\n",
    "# https://www.apache.org/licenses/LICENSE-2.0\n",
    "#\n",
    "# Unless required by applicable law or agreed to in writing, software\n",
    "# distributed under the License is distributed on an \"AS IS\" BASIS,\n",
    "# WITHOUT WARRANTIES OR CONDITIONS OF ANY KIND, either express or implied.\n",
    "# See the License for the specific language governing permissions and\n",
    "# limitations under the License."
   ]
  },
  {
   "cell_type": "markdown",
   "metadata": {
    "id": "iQjHqsmTAVLU"
   },
   "source": [
    "## Exercise 3\n",
    "In the videos you looked at how you would improve Fashion MNIST using Convolutions. For your exercise see if you can improve MNIST to 99.8% accuracy or more using only a single convolutional layer and a single MaxPooling 2D. You should stop training once the accuracy goes above this amount. It should happen in less than 20 epochs, so it's ok to hard code the number of epochs for training, but your training must end once it hits the above metric. If it doesn't, then you'll need to redesign your layers.\n",
    "\n",
    "I've started the code for you -- you need to finish it!\n",
    "\n",
    "When 99.8% accuracy has been hit, you should print out the string \"Reached 99.8% accuracy so cancelling training!\"\n"
   ]
  },
  {
   "cell_type": "code",
   "execution_count": 3,
   "metadata": {
    "colab": {
     "base_uri": "https://localhost:8080/"
    },
    "id": "sfQRyaJWAIdg",
    "outputId": "26824b24-ece2-4a3e-a745-a46c9d8e8fd7"
   },
   "outputs": [
    {
     "name": "stdout",
     "output_type": "stream",
     "text": [
      "Shape of mnist train data (60000, 28, 28, 1).\n",
      "Shape of mnist test data (10000, 28, 28, 1).\n",
      "Epoch 1/20\n",
      "1875/1875 [==============================] - 57s 30ms/step - loss: 0.1585 - accuracy: 0.9539\n",
      "Epoch 2/20\n",
      "1875/1875 [==============================] - 56s 30ms/step - loss: 0.0636 - accuracy: 0.9804\n",
      "Epoch 3/20\n",
      "1875/1875 [==============================] - 55s 29ms/step - loss: 0.0480 - accuracy: 0.9855\n",
      "Epoch 4/20\n",
      "1875/1875 [==============================] - 55s 30ms/step - loss: 0.0374 - accuracy: 0.9887\n",
      "Epoch 5/20\n",
      "1875/1875 [==============================] - 55s 29ms/step - loss: 0.0284 - accuracy: 0.9907\n",
      "Epoch 6/20\n",
      "1875/1875 [==============================] - 55s 29ms/step - loss: 0.0230 - accuracy: 0.9930\n",
      "Epoch 7/20\n",
      "1875/1875 [==============================] - 55s 29ms/step - loss: 0.0163 - accuracy: 0.9952\n",
      "Epoch 8/20\n",
      "1875/1875 [==============================] - 60s 32ms/step - loss: 0.0133 - accuracy: 0.9959\n",
      "Epoch 9/20\n",
      "1875/1875 [==============================] - 55s 29ms/step - loss: 0.0108 - accuracy: 0.9965\n",
      "Epoch 10/20\n",
      "1875/1875 [==============================] - ETA: 0s - loss: 0.0084 - accuracy: 0.9974\n",
      "Reached 99.8% accuracy so cancelling training!\n",
      "1875/1875 [==============================] - 56s 30ms/step - loss: 0.0084 - accuracy: 0.9974\n",
      "Model: \"sequential_1\"\n",
      "_________________________________________________________________\n",
      "Layer (type)                 Output Shape              Param #   \n",
      "=================================================================\n",
      "conv2d_1 (Conv2D)            (None, 26, 26, 128)       1280      \n",
      "_________________________________________________________________\n",
      "max_pooling2d_1 (MaxPooling2 (None, 13, 13, 128)       0         \n",
      "_________________________________________________________________\n",
      "flatten_1 (Flatten)          (None, 21632)             0         \n",
      "_________________________________________________________________\n",
      "dense_1 (Dense)              (None, 10)                216330    \n",
      "=================================================================\n",
      "Total params: 217,610\n",
      "Trainable params: 217,610\n",
      "Non-trainable params: 0\n",
      "_________________________________________________________________\n"
     ]
    }
   ],
   "source": [
    "import tensorflow as tf\n",
    "\n",
    "# YOUR CODE STARTS HERE\n",
    "class myCallback(tf.keras.callbacks.Callback):\n",
    "      def on_epoch_end(self, epoch, logs={}):\n",
    "        #if(logs.get('loss')<0.02):\n",
    "        if(logs.get('accuracy') > 0.997):\n",
    "          print(\"\\nReached 99.8% accuracy so cancelling training!\")\n",
    "          self.model.stop_training = True\n",
    "\n",
    "# YOUR CODE ENDS HERE\n",
    "callbacks = myCallback()\n",
    "\n",
    "mnist = tf.keras.datasets.mnist\n",
    "(training_images, training_labels), (test_images, test_labels) = mnist.load_data()\n",
    "\n",
    "# YOUR CODE STARTS HERE\n",
    "training_images=training_images.reshape(60000, 28, 28, 1)\n",
    "training_images=training_images / 255.0\n",
    "test_images = test_images.reshape(10000, 28, 28, 1)\n",
    "test_images=test_images/255.0\n",
    "\n",
    "# YOUR CODE ENDS HERE\n",
    "print('Shape of mnist train data {}.'.format(training_images.shape))\n",
    "print('Shape of mnist test data {}.'.format(test_images.shape))\n",
    "\n",
    "model = tf.keras.models.Sequential([\n",
    "    # YOUR CODE STARTS HERE\n",
    "    tf.keras.layers.Conv2D(128, (3,3), activation='relu', input_shape=(28, 28, 1)),\n",
    "    tf.keras.layers.MaxPooling2D(2, 2),\n",
    "\n",
    "    # YOUR CODE ENDS HERE\n",
    "    tf.keras.layers.Flatten(),\n",
    "    tf.keras.layers.Dense(10, activation='softmax')\n",
    "])\n",
    "\n",
    "# YOUR CODE STARTS HERE\n",
    "model.compile(optimizer='adam', loss='sparse_categorical_crossentropy', metrics=['accuracy'])\n",
    "# model fitting\n",
    "history = model.fit(\n",
    "    # YOUR CODE STARTS HERE\n",
    "    training_images, training_labels,\n",
    "    # YOUR CODE ENDS HERE\n",
    "    epochs=20, callbacks=[callbacks]\n",
    ")\n",
    "\n",
    "# YOUR CODE ENDS HERE\n",
    "# model fitting\n",
    "model.summary()"
   ]
  }
 ],
 "metadata": {
  "colab": {
   "collapsed_sections": [],
   "name": "Exercise 3 - Question.ipynb",
   "provenance": [],
   "toc_visible": true
  },
  "kernelspec": {
   "display_name": "Python 3",
   "language": "python",
   "name": "python3"
  },
  "language_info": {
   "codemirror_mode": {
    "name": "ipython",
    "version": 3
   },
   "file_extension": ".py",
   "mimetype": "text/x-python",
   "name": "python",
   "nbconvert_exporter": "python",
   "pygments_lexer": "ipython3",
   "version": "3.6.10"
  }
 },
 "nbformat": 4,
 "nbformat_minor": 1
}
