{
 "cells": [
  {
   "cell_type": "markdown",
   "metadata": {},
   "source": [
    "#### Step 1: Import relevant packages"
   ]
  },
  {
   "cell_type": "code",
   "execution_count": 62,
   "metadata": {},
   "outputs": [],
   "source": [
    "import os\n",
    "import zipfile\n",
    "import random\n",
    "import tensorflow as tf\n",
    "import shutil\n",
    "from tensorflow.keras.optimizers import RMSprop\n",
    "from tensorflow.keras.preprocessing.image import ImageDataGenerator\n",
    "from shutil import copyfile\n",
    "from os import getcwd\n",
    "import collections"
   ]
  },
  {
   "cell_type": "markdown",
   "metadata": {},
   "source": [
    "#### Step 2: Create sub directories"
   ]
  },
  {
   "cell_type": "code",
   "execution_count": 30,
   "metadata": {},
   "outputs": [],
   "source": [
    "#path = r'C:\\Users\\pmspr\\Documents\\Machine Learning\\Courses\\Tensorflow Cert\\Git\\Tensorflow-Cert\\Coursera\\01 - Data\\tmp'\n",
    "#p1 = os.path.join(path, 'cats-v-dogs/training/cats/')\n",
    "#if not os.path.isdir(p1): os.makedirs(p1)\n",
    "\n",
    "#p2 = os.path.join(path, 'cats-v-dogs/testing/cats/')\n",
    "#if not os.path.isdir(p2): os.makedirs(p2)\n",
    "\n",
    "#p3 = os.path.join(path, 'cats-v-dogs/training/dogs/')\n",
    "#if not os.path.isdir(p3): os.makedirs(p3)\n",
    "    \n",
    "#p4 = os.path.join(path, 'cats-v-dogs/testing/dogs/')\n",
    "#if not os.path.isdir(p4): os.makedirs(p4)"
   ]
  },
  {
   "cell_type": "code",
   "execution_count": 67,
   "metadata": {},
   "outputs": [],
   "source": [
    "path = r'C:\\Users\\pmspr\\Documents\\Machine Learning\\Courses\\Tensorflow Cert\\Git\\Tensorflow-Cert\\Coursera\\01 - Data\\\\'\n",
    "dirt = os.path.dirname(path) + '/tmp/'\n",
    "if not os.path.isdir(dirt): \n",
    "    ##shutil.rmtree(dirt)\n",
    "    os.mkdir(dirt)\n",
    "\n",
    "    dirt = os.path.dirname(dirt) + '/cats-v-dogs/'\n",
    "    os.mkdir(dirt)\n",
    "    dirt1 = os.path.dirname(dirt) + '/training/'\n",
    "    os.mkdir(dirt1)\n",
    "    dirt3 = os.path.dirname(dirt1) + '/cats/'\n",
    "    os.mkdir(dirt3)\n",
    "    dirt4 = os.path.dirname(dirt1) + '/dogs/'\n",
    "    os.mkdir(dirt4)\n",
    "\n",
    "    dirt5 = os.path.dirname(dirt) + '/testing/'\n",
    "    os.mkdir(dirt5)\n",
    "    dirt6 = os.path.dirname(dirt5) + '/cats/'\n",
    "    os.mkdir(dirt6)\n",
    "    dirt7 = os.path.dirname(dirt5) + '/dogs/'\n",
    "    os.mkdir(dirt7)"
   ]
  },
  {
   "cell_type": "markdown",
   "metadata": {},
   "source": [
    "#### Step 3: Split the data in to training and testing"
   ]
  },
  {
   "cell_type": "code",
   "execution_count": 34,
   "metadata": {},
   "outputs": [],
   "source": [
    "def freeDir(folder):\n",
    "    for filename in os.listdir(folder):\n",
    "        file_path = os.path.join(folder, filename)\n",
    "        try:\n",
    "            if os.path.isfile(file_path) or os.path.islink(file_path):\n",
    "                os.unlink(file_path)\n",
    "            elif os.path.isdir(file_path):\n",
    "                shutil.rmtree(file_path)\n",
    "        except Exception as e:\n",
    "            print('Failed to delete %s. Reason: %s' % (file_path, e))"
   ]
  },
  {
   "cell_type": "code",
   "execution_count": 39,
   "metadata": {},
   "outputs": [],
   "source": [
    "def split_data(SOURCE, TRAINING, TESTING, SPLIT_SIZE): #, TRAINING, TESTING, SPLIT_SIZE):\n",
    "    files = os.listdir(SOURCE)\n",
    "    train_path_list = collections.defaultdict(list)\n",
    "    test_path_list = collections.defaultdict(list)\n",
    "    split_ind = int(len(files)*SPLIT_SIZE)\n",
    "    train_ids = random.sample(files,split_ind)\n",
    "    test_ids = set(files).difference(train_ids)\n",
    "    freeDir(TRAINING)\n",
    "    for tr in train_ids:\n",
    "        train_path_list[tr].append(os.path.join(SOURCE,tr))\n",
    "        if (os.path.getsize(os.path.join(SOURCE,tr)) > 0):\n",
    "            shutil.copyfile(os.path.join(SOURCE,tr), os.path.join(TRAINING,tr))\n",
    "    freeDir(TESTING)\n",
    "    for te in test_ids:\n",
    "        test_path_list[te].append(os.path.join(SOURCE,te))\n",
    "        if (os.path.getsize(os.path.join(SOURCE,te)) > 0):\n",
    "            shutil.copyfile(os.path.join(SOURCE,te), os.path.join(TESTING,te))\n",
    "    return train_path_list, test_path_list \n",
    "    #print(len(os.listdir(TRAINING)))\n",
    "    #print(len(os.listdir(TESTING)))"
   ]
  },
  {
   "cell_type": "code",
   "execution_count": 40,
   "metadata": {},
   "outputs": [],
   "source": [
    "CAT_SOURCE_DIR = os.path.join(path, 'PetImages/Cat')\n",
    "TRAINING_CATS_DIR = os.path.join(path, 'cats-v-dogs/training/cats')\n",
    "TESTING_CATS_DIR = os.path.join(path, 'cats-v-dogs/testing/cats')\n",
    "DOG_SOURCE_DIR = os.path.join(path, 'PetImages/Dog')\n",
    "TRAINING_DOGS_DIR = os.path.join(path, 'cats-v-dogs/training/dogs')\n",
    "TESTING_DOGS_DIR = os.path.join(path, 'cats-v-dogs/testing/dogs')\n",
    "\n",
    "SPLIT_SIZE = 0.9\n",
    "train_path_list, test_path_list = split_data(CAT_SOURCE_DIR, TRAINING_CATS_DIR, TESTING_CATS_DIR, SPLIT_SIZE)\n",
    "train_path_list, test_path_list = split_data(DOG_SOURCE_DIR, TRAINING_DOGS_DIR, TESTING_DOGS_DIR, SPLIT_SIZE)"
   ]
  },
  {
   "cell_type": "markdown",
   "metadata": {},
   "source": [
    "#### Step 4: Create the model"
   ]
  },
  {
   "cell_type": "code",
   "execution_count": 41,
   "metadata": {},
   "outputs": [],
   "source": [
    "model = tf.keras.models.Sequential([\n",
    "# YOUR CODE HERE\n",
    "    tf.keras.layers.Conv2D(16, (3,3), activation='relu', input_shape=(150, 150, 3)),\n",
    "    tf.keras.layers.MaxPooling2D(2,2),\n",
    "    tf.keras.layers.Conv2D(32, (3,3), activation='relu'),\n",
    "    tf.keras.layers.MaxPooling2D(2,2), \n",
    "    tf.keras.layers.Conv2D(64, (3,3), activation='relu'), \n",
    "    tf.keras.layers.MaxPooling2D(2,2),\n",
    "    tf.keras.layers.Flatten(), \n",
    "    tf.keras.layers.Dense(512, activation='relu'), \n",
    "    tf.keras.layers.Dense(1, activation='sigmoid')\n",
    "])\n",
    "\n",
    "model.compile(optimizer=RMSprop(lr=0.001), loss='binary_crossentropy', metrics=['acc'])"
   ]
  },
  {
   "cell_type": "markdown",
   "metadata": {},
   "source": [
    "#### Step 5: Create the image generator"
   ]
  },
  {
   "cell_type": "code",
   "execution_count": 43,
   "metadata": {},
   "outputs": [
    {
     "name": "stdout",
     "output_type": "stream",
     "text": [
      "Found 2700 images belonging to 2 classes.\n",
      "Found 300 images belonging to 2 classes.\n"
     ]
    }
   ],
   "source": [
    "TRAINING_DIR = os.path.join(path, 'cats-v-dogs/training')\n",
    "train_datagen = ImageDataGenerator( rescale = 1.0/255. )\n",
    "\n",
    "# NOTE: YOU MUST USE A BATCH SIZE OF 10 (batch_size=10) FOR THE \n",
    "# TRAIN GENERATOR.\n",
    "train_generator = train_datagen.flow_from_directory(TRAINING_DIR,\n",
    "                                                    batch_size=10,\n",
    "                                                    class_mode='binary',\n",
    "                                                    target_size=(150, 150))\n",
    "\n",
    "VALIDATION_DIR = os.path.join(path, 'cats-v-dogs/testing')\n",
    "validation_datagen = ImageDataGenerator( rescale = 1.0/255. )\n",
    "\n",
    "# NOTE: YOU MUST USE A BACTH SIZE OF 10 (batch_size=10) FOR THE \n",
    "# VALIDATION GENERATOR.\n",
    "validation_generator = validation_datagen.flow_from_directory(VALIDATION_DIR,\n",
    "                                                         batch_size=10,\n",
    "                                                         class_mode  = 'binary',\n",
    "                                                         target_size = (150, 150))"
   ]
  },
  {
   "cell_type": "markdown",
   "metadata": {},
   "source": [
    "#### Step 6: Train the model"
   ]
  },
  {
   "cell_type": "code",
   "execution_count": 44,
   "metadata": {},
   "outputs": [
    {
     "name": "stdout",
     "output_type": "stream",
     "text": [
      "WARNING:tensorflow:From <ipython-input-44-0e811ddbfb65>:4: Model.fit_generator (from tensorflow.python.keras.engine.training) is deprecated and will be removed in a future version.\n",
      "Instructions for updating:\n",
      "Please use Model.fit, which supports generators.\n",
      "WARNING:tensorflow:sample_weight modes were coerced from\n",
      "  ...\n",
      "    to  \n",
      "  ['...']\n",
      "WARNING:tensorflow:sample_weight modes were coerced from\n",
      "  ...\n",
      "    to  \n",
      "  ['...']\n",
      "Train for 270 steps, validate for 30 steps\n",
      "Epoch 1/2\n",
      "270/270 [==============================] - 33s 122ms/step - loss: 0.7451 - acc: 0.5896 - val_loss: 0.6447 - val_acc: 0.6067\n",
      "Epoch 2/2\n",
      "270/270 [==============================] - 28s 103ms/step - loss: 0.6131 - acc: 0.6804 - val_loss: 0.5687 - val_acc: 0.6967\n"
     ]
    }
   ],
   "source": [
    "history = model.fit_generator(train_generator,\n",
    "                              epochs=2,\n",
    "                              verbose=1,\n",
    "                              validation_data=validation_generator)"
   ]
  },
  {
   "cell_type": "markdown",
   "metadata": {},
   "source": [
    "#### Step 7: Plot the accuracies"
   ]
  },
  {
   "cell_type": "code",
   "execution_count": 45,
   "metadata": {},
   "outputs": [
    {
     "data": {
      "text/plain": [
       "Text(0.5, 1.0, 'Training and validation loss')"
      ]
     },
     "execution_count": 45,
     "metadata": {},
     "output_type": "execute_result"
    },
    {
     "data": {
      "image/png": "[encoded data removed]",
      "text/plain": [
       "<Figure size 432x288 with 1 Axes>"
      ]
     },
     "metadata": {
      "needs_background": "light"
     },
     "output_type": "display_data"
    },
    {
     "data": {
      "image/png": "[encoded data removed]",
      "text/plain": [
       "<Figure size 432x288 with 1 Axes>"
      ]
     },
     "metadata": {
      "needs_background": "light"
     },
     "output_type": "display_data"
    }
   ],
   "source": [
    "# PLOT LOSS AND ACCURACY\n",
    "%matplotlib inline\n",
    "\n",
    "import matplotlib.image  as mpimg\n",
    "import matplotlib.pyplot as plt\n",
    "\n",
    "#-----------------------------------------------------------\n",
    "# Retrieve a list of list results on training and test data\n",
    "# sets for each training epoch\n",
    "#-----------------------------------------------------------\n",
    "acc=history.history['acc']\n",
    "val_acc=history.history['val_acc']\n",
    "loss=history.history['loss']\n",
    "val_loss=history.history['val_loss']\n",
    "\n",
    "epochs=range(len(acc)) # Get number of epochs\n",
    "\n",
    "#------------------------------------------------\n",
    "# Plot training and validation accuracy per epoch\n",
    "#------------------------------------------------\n",
    "plt.plot(epochs, acc, 'r', \"Training Accuracy\")\n",
    "plt.plot(epochs, val_acc, 'b', \"Validation Accuracy\")\n",
    "plt.title('Training and validation accuracy')\n",
    "plt.figure()\n",
    "\n",
    "#------------------------------------------------\n",
    "# Plot training and validation loss per epoch\n",
    "#------------------------------------------------\n",
    "plt.plot(epochs, loss, 'r', \"Training Loss\")\n",
    "plt.plot(epochs, val_loss, 'b', \"Validation Loss\")\n",
    "\n",
    "\n",
    "plt.title('Training and validation loss')"
   ]
  }
 ],
 "metadata": {
  "kernelspec": {
   "display_name": "Python 3",
   "language": "python",
   "name": "python3"
  },
  "language_info": {
   "codemirror_mode": {
    "name": "ipython",
    "version": 3
   },
   "file_extension": ".py",
   "mimetype": "text/x-python",
   "name": "python",
   "nbconvert_exporter": "python",
   "pygments_lexer": "ipython3",
   "version": "3.6.10"
  }
 },
 "nbformat": 4,
 "nbformat_minor": 4
}
