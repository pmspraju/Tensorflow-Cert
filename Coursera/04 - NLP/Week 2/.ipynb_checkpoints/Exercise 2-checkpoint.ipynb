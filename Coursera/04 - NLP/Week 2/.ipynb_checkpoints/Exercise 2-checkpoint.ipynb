{
 "cells": [
  {
   "cell_type": "code",
   "execution_count": 1,
   "metadata": {
    "id": "zX4Kg8DUTKWO"
   },
   "outputs": [],
   "source": [
    "#@title Licensed under the Apache License, Version 2.0 (the \"License\");\n",
    "# you may not use this file except in compliance with the License.\n",
    "# You may obtain a copy of the License at\n",
    "#\n",
    "# https://www.apache.org/licenses/LICENSE-2.0\n",
    "#\n",
    "# Unless required by applicable law or agreed to in writing, software\n",
    "# distributed under the License is distributed on an \"AS IS\" BASIS,\n",
    "# WITHOUT WARRANTIES OR CONDITIONS OF ANY KIND, either express or implied.\n",
    "# See the License for the specific language governing permissions and\n",
    "# limitations under the License."
   ]
  },
  {
   "cell_type": "markdown",
   "metadata": {
    "id": "view-in-github"
   },
   "source": [
    "<a href=\"https://colab.research.google.com/github/lmoroney/dlaicourse/blob/master/TensorFlow%20In%20Practice/Course%203%20-%20NLP/Course%203%20-%20Week%202%20-%20Lesson%202.ipynb\" target=\"_parent\"><img src=\"https://colab.research.google.com/assets/colab-badge.svg\" alt=\"Open In Colab\"/></a>"
   ]
  },
  {
   "cell_type": "code",
   "execution_count": 5,
   "metadata": {
    "id": "4gs9htvM7n_x"
   },
   "outputs": [
    {
     "name": "stdout",
     "output_type": "stream",
     "text": [
      "Exception\n"
     ]
    }
   ],
   "source": [
    "# Run this to ensure TensorFlow 2.x is used\n",
    "#try:\n",
    "  # %tensorflow_version only exists in Colab.\n",
    "#  %tensorflow_version 2.x\n",
    "#except Exception:\n",
    "#    print('Exception')\n",
    "#    pass"
   ]
  },
  {
   "cell_type": "code",
   "execution_count": 6,
   "metadata": {
    "id": "XYYDvoskkE61"
   },
   "outputs": [
    {
     "name": "stdout",
     "output_type": "stream",
     "text": [
      "2.1.0\n"
     ]
    }
   ],
   "source": [
    "import json\n",
    "import tensorflow as tf\n",
    "print(tf.__version__)\n",
    "\n",
    "from tensorflow.keras.preprocessing.text import Tokenizer\n",
    "from tensorflow.keras.preprocessing.sequence import pad_sequences"
   ]
  },
  {
   "cell_type": "code",
   "execution_count": 7,
   "metadata": {
    "id": "0eJSTTYnkJQd"
   },
   "outputs": [],
   "source": [
    "vocab_size = 10000\n",
    "embedding_dim = 16\n",
    "max_length = 100\n",
    "trunc_type='post'\n",
    "padding_type='post'\n",
    "oov_tok = \"<OOV>\"\n",
    "training_size = 20000\n"
   ]
  },
  {
   "cell_type": "code",
   "execution_count": 9,
   "metadata": {
    "id": "BQVuQrZNkPn9"
   },
   "outputs": [],
   "source": [
    "#!wget --no-check-certificate \\\n",
    "#    https://storage.googleapis.com/laurencemoroney-blog.appspot.com/sarcasm.json \\\n",
    "#    -O /tmp/sarcasm.json\n",
    "import os\n",
    "path = r'C:\\Users\\pmspr\\Documents\\Machine Learning\\Courses\\Tensorflow Cert\\Git\\Tensorflow-Cert\\Coursera\\01 - Data'\n",
    "folder = 'nlp'\n",
    "abs_path = os.path.join(path,folder)\n",
    "if not os.path.exists(abs_path):\n",
    "    sarcasm_json_r = tf.keras.utils.get_file('sarcasm.json',\n",
    "                                            cache_subdir=abs_path,\n",
    "                                            origin = 'https://storage.googleapis.com/laurencemoroney-blog.appspot.com/sarcasm.json',\n",
    "                                            extract = True)\n",
    "\n",
    "    sarcasm_json = abs_path\n",
    "else:\n",
    "    sarcasm_json = abs_path"
   ]
  },
  {
   "cell_type": "code",
   "execution_count": 10,
   "metadata": {
    "id": "oaLaaqhNkUPd"
   },
   "outputs": [],
   "source": [
    "filename = os.path.join(sarcasm_json, 'sarcasm.json')\n",
    "with open(filename, 'r') as f:\n",
    "    datastore = json.load(f)\n",
    "\n",
    "sentences = []\n",
    "labels = []\n",
    "\n",
    "for item in datastore:\n",
    "    sentences.append(item['headline'])\n",
    "    labels.append(item['is_sarcastic'])"
   ]
  },
  {
   "cell_type": "code",
   "execution_count": 11,
   "metadata": {
    "id": "S1sD-7v0kYWk"
   },
   "outputs": [],
   "source": [
    "training_sentences = sentences[0:training_size]\n",
    "testing_sentences = sentences[training_size:]\n",
    "training_labels = labels[0:training_size]\n",
    "testing_labels = labels[training_size:]"
   ]
  },
  {
   "cell_type": "code",
   "execution_count": 12,
   "metadata": {
    "id": "3u8UB0MCkZ5N"
   },
   "outputs": [],
   "source": [
    "tokenizer = Tokenizer(num_words=vocab_size, oov_token=oov_tok)\n",
    "tokenizer.fit_on_texts(training_sentences)\n",
    "\n",
    "word_index = tokenizer.word_index\n",
    "\n",
    "training_sequences = tokenizer.texts_to_sequences(training_sentences)\n",
    "training_padded = pad_sequences(training_sequences, maxlen=max_length, padding=padding_type, truncating=trunc_type)\n",
    "\n",
    "testing_sequences = tokenizer.texts_to_sequences(testing_sentences)\n",
    "testing_padded = pad_sequences(testing_sequences, maxlen=max_length, padding=padding_type, truncating=trunc_type)"
   ]
  },
  {
   "cell_type": "code",
   "execution_count": 13,
   "metadata": {
    "id": "GrAlWBKf99Ya"
   },
   "outputs": [],
   "source": [
    "# Need this block to get it to work with TensorFlow 2.x\n",
    "import numpy as np\n",
    "training_padded = np.array(training_padded)\n",
    "training_labels = np.array(training_labels)\n",
    "testing_padded = np.array(testing_padded)\n",
    "testing_labels = np.array(testing_labels)"
   ]
  },
  {
   "cell_type": "code",
   "execution_count": 14,
   "metadata": {
    "id": "FufaT4vlkiDE"
   },
   "outputs": [],
   "source": [
    "model = tf.keras.Sequential([\n",
    "    tf.keras.layers.Embedding(vocab_size, embedding_dim, input_length=max_length),\n",
    "    tf.keras.layers.GlobalAveragePooling1D(),\n",
    "    tf.keras.layers.Dense(24, activation='relu'),\n",
    "    tf.keras.layers.Dense(1, activation='sigmoid')\n",
    "])\n",
    "model.compile(loss='binary_crossentropy',optimizer='adam',metrics=['accuracy'])"
   ]
  },
  {
   "cell_type": "code",
   "execution_count": 15,
   "metadata": {
    "id": "XfDt1hmYkiys"
   },
   "outputs": [
    {
     "name": "stdout",
     "output_type": "stream",
     "text": [
      "Model: \"sequential\"\n",
      "_________________________________________________________________\n",
      "Layer (type)                 Output Shape              Param #   \n",
      "=================================================================\n",
      "embedding (Embedding)        (None, 100, 16)           160000    \n",
      "_________________________________________________________________\n",
      "global_average_pooling1d (Gl (None, 16)                0         \n",
      "_________________________________________________________________\n",
      "dense (Dense)                (None, 24)                408       \n",
      "_________________________________________________________________\n",
      "dense_1 (Dense)              (None, 1)                 25        \n",
      "=================================================================\n",
      "Total params: 160,433\n",
      "Trainable params: 160,433\n",
      "Non-trainable params: 0\n",
      "_________________________________________________________________\n"
     ]
    }
   ],
   "source": [
    "model.summary()\n"
   ]
  },
  {
   "cell_type": "code",
   "execution_count": 16,
   "metadata": {
    "id": "2DTKQFf1kkyc"
   },
   "outputs": [
    {
     "name": "stdout",
     "output_type": "stream",
     "text": [
      "Train on 20000 samples, validate on 6709 samples\n",
      "Epoch 1/30\n",
      "20000/20000 - 2s - loss: 0.6648 - accuracy: 0.5847 - val_loss: 0.5738 - val_accuracy: 0.7211\n",
      "Epoch 2/30\n",
      "20000/20000 - 1s - loss: 0.4191 - accuracy: 0.8347 - val_loss: 0.3789 - val_accuracy: 0.8422\n",
      "Epoch 3/30\n",
      "20000/20000 - 1s - loss: 0.3020 - accuracy: 0.8799 - val_loss: 0.3555 - val_accuracy: 0.8480\n",
      "Epoch 4/30\n",
      "20000/20000 - 1s - loss: 0.2505 - accuracy: 0.9028 - val_loss: 0.3489 - val_accuracy: 0.8509\n",
      "Epoch 5/30\n",
      "20000/20000 - 1s - loss: 0.2158 - accuracy: 0.9162 - val_loss: 0.3563 - val_accuracy: 0.8524\n",
      "Epoch 6/30\n",
      "20000/20000 - 1s - loss: 0.1877 - accuracy: 0.9298 - val_loss: 0.3631 - val_accuracy: 0.8539\n",
      "Epoch 7/30\n",
      "20000/20000 - 1s - loss: 0.1646 - accuracy: 0.9396 - val_loss: 0.3751 - val_accuracy: 0.8547\n",
      "Epoch 8/30\n",
      "20000/20000 - 1s - loss: 0.1505 - accuracy: 0.9449 - val_loss: 0.3905 - val_accuracy: 0.8551\n",
      "Epoch 9/30\n",
      "20000/20000 - 1s - loss: 0.1327 - accuracy: 0.9524 - val_loss: 0.4138 - val_accuracy: 0.8517\n",
      "Epoch 10/30\n",
      "20000/20000 - 1s - loss: 0.1197 - accuracy: 0.9584 - val_loss: 0.4366 - val_accuracy: 0.8505\n",
      "Epoch 11/30\n",
      "20000/20000 - 1s - loss: 0.1085 - accuracy: 0.9633 - val_loss: 0.4748 - val_accuracy: 0.8427\n",
      "Epoch 12/30\n",
      "20000/20000 - 1s - loss: 0.0977 - accuracy: 0.9668 - val_loss: 0.4954 - val_accuracy: 0.8444\n",
      "Epoch 13/30\n",
      "20000/20000 - 1s - loss: 0.0879 - accuracy: 0.9707 - val_loss: 0.5586 - val_accuracy: 0.8335\n",
      "Epoch 14/30\n",
      "20000/20000 - 1s - loss: 0.0809 - accuracy: 0.9731 - val_loss: 0.5599 - val_accuracy: 0.8368\n",
      "Epoch 15/30\n",
      "20000/20000 - 1s - loss: 0.0736 - accuracy: 0.9754 - val_loss: 0.5933 - val_accuracy: 0.8356\n",
      "Epoch 16/30\n",
      "20000/20000 - 1s - loss: 0.0674 - accuracy: 0.9779 - val_loss: 0.6438 - val_accuracy: 0.8338\n",
      "Epoch 17/30\n",
      "20000/20000 - 1s - loss: 0.0626 - accuracy: 0.9795 - val_loss: 0.6750 - val_accuracy: 0.8307\n",
      "Epoch 18/30\n",
      "20000/20000 - 1s - loss: 0.0575 - accuracy: 0.9814 - val_loss: 0.7047 - val_accuracy: 0.8299\n",
      "Epoch 19/30\n",
      "20000/20000 - 1s - loss: 0.0508 - accuracy: 0.9845 - val_loss: 0.7775 - val_accuracy: 0.8237\n",
      "Epoch 20/30\n",
      "20000/20000 - 1s - loss: 0.0472 - accuracy: 0.9854 - val_loss: 0.8021 - val_accuracy: 0.8234\n",
      "Epoch 21/30\n",
      "20000/20000 - 1s - loss: 0.0439 - accuracy: 0.9865 - val_loss: 0.8459 - val_accuracy: 0.8214\n",
      "Epoch 22/30\n",
      "20000/20000 - 1s - loss: 0.0393 - accuracy: 0.9878 - val_loss: 0.9066 - val_accuracy: 0.8183\n",
      "Epoch 23/30\n",
      "20000/20000 - 1s - loss: 0.0372 - accuracy: 0.9894 - val_loss: 0.9040 - val_accuracy: 0.8199\n",
      "Epoch 24/30\n",
      "20000/20000 - 1s - loss: 0.0327 - accuracy: 0.9905 - val_loss: 0.9478 - val_accuracy: 0.8208\n",
      "Epoch 25/30\n",
      "20000/20000 - 1s - loss: 0.0328 - accuracy: 0.9901 - val_loss: 1.0697 - val_accuracy: 0.8155\n",
      "Epoch 26/30\n",
      "20000/20000 - 1s - loss: 0.0293 - accuracy: 0.9909 - val_loss: 1.1233 - val_accuracy: 0.8155\n",
      "Epoch 27/30\n",
      "20000/20000 - 1s - loss: 0.0259 - accuracy: 0.9930 - val_loss: 1.1408 - val_accuracy: 0.8158\n",
      "Epoch 28/30\n",
      "20000/20000 - 1s - loss: 0.0234 - accuracy: 0.9931 - val_loss: 1.2504 - val_accuracy: 0.8126\n",
      "Epoch 29/30\n",
      "20000/20000 - 1s - loss: 0.0220 - accuracy: 0.9936 - val_loss: 1.1483 - val_accuracy: 0.8134\n",
      "Epoch 30/30\n",
      "20000/20000 - 1s - loss: 0.0205 - accuracy: 0.9949 - val_loss: 1.1851 - val_accuracy: 0.8116\n"
     ]
    }
   ],
   "source": [
    "num_epochs = 30\n",
    "history = model.fit(training_padded, training_labels, epochs=num_epochs, validation_data=(testing_padded, testing_labels), verbose=2)"
   ]
  },
  {
   "cell_type": "code",
   "execution_count": 17,
   "metadata": {
    "id": "2HYfBKXjkmU8"
   },
   "outputs": [
    {
     "data": {
      "image/png": "[encoded data removed]",
      "text/plain": [
       "<Figure size 432x288 with 1 Axes>"
      ]
     },
     "metadata": {
      "needs_background": "light"
     },
     "output_type": "display_data"
    },
    {
     "data": {
      "image/png": "[encoded data removed]",
      "text/plain": [
       "<Figure size 432x288 with 1 Axes>"
      ]
     },
     "metadata": {
      "needs_background": "light"
     },
     "output_type": "display_data"
    }
   ],
   "source": [
    "import matplotlib.pyplot as plt\n",
    "\n",
    "\n",
    "def plot_graphs(history, string):\n",
    "  plt.plot(history.history[string])\n",
    "  plt.plot(history.history['val_'+string])\n",
    "  plt.xlabel(\"Epochs\")\n",
    "  plt.ylabel(string)\n",
    "  plt.legend([string, 'val_'+string])\n",
    "  plt.show()\n",
    "  \n",
    "plot_graphs(history, \"accuracy\")\n",
    "plot_graphs(history, \"loss\")"
   ]
  },
  {
   "cell_type": "code",
   "execution_count": 18,
   "metadata": {
    "id": "7SBdAZAenvzL"
   },
   "outputs": [
    {
     "name": "stdout",
     "output_type": "stream",
     "text": [
      "former <OOV> store clerk sues over secret 'black <OOV> for minority shoppers ? ? ? ? ? ? ? ? ? ? ? ? ? ? ? ? ? ? ? ? ? ? ? ? ? ? ? ? ? ? ? ? ? ? ? ? ? ? ? ? ? ? ? ? ? ? ? ? ? ? ? ? ? ? ? ? ? ? ? ? ? ? ? ? ? ? ? ? ? ? ? ? ? ? ? ? ? ? ? ? ? ? ? ? ? ? ? ?\n",
      "mom starting to fear son's web series closest thing she will have to grandchild\n",
      "1\n"
     ]
    }
   ],
   "source": [
    "reverse_word_index = dict([(value, key) for (key, value) in word_index.items()])\n",
    "\n",
    "def decode_sentence(text):\n",
    "    return ' '.join([reverse_word_index.get(i, '?') for i in text])\n",
    "\n",
    "print(decode_sentence(training_padded[0]))\n",
    "print(training_sentences[2])\n",
    "print(labels[2])"
   ]
  },
  {
   "cell_type": "code",
   "execution_count": 19,
   "metadata": {
    "id": "c9MqihtEkzQ9"
   },
   "outputs": [
    {
     "name": "stdout",
     "output_type": "stream",
     "text": [
      "(10000, 16)\n"
     ]
    }
   ],
   "source": [
    "e = model.layers[0]\n",
    "weights = e.get_weights()[0]\n",
    "print(weights.shape) # shape: (vocab_size, embedding_dim)\n"
   ]
  },
  {
   "cell_type": "code",
   "execution_count": 20,
   "metadata": {
    "id": "LoBXVffknldU"
   },
   "outputs": [],
   "source": [
    "import io\n",
    "\n",
    "path = r'C:\\Users\\pmspr\\Documents\\Machine Learning\\Courses\\Tensorflow Cert\\Git\\Tensorflow-Cert\\Coursera\\01 - Data'\n",
    "folder = 'nlp'\n",
    "nlp = os.path.join(path,folder)\n",
    "vecs = os.path.join(nlp,'vecs_sarcasm.tsv')\n",
    "meta = os.path.join(nlp,'meta_sarcasm.tsv')\n",
    "\n",
    "out_v = io.open(vecs, 'w', encoding='utf-8')\n",
    "out_m = io.open(meta, 'w', encoding='utf-8')\n",
    "for word_num in range(1, vocab_size):\n",
    "  word = reverse_word_index[word_num]\n",
    "  embeddings = weights[word_num]\n",
    "  out_m.write(word + \"\\n\")\n",
    "  out_v.write('\\t'.join([str(x) for x in embeddings]) + \"\\n\")\n",
    "out_v.close()\n",
    "out_m.close()"
   ]
  },
  {
   "cell_type": "code",
   "execution_count": null,
   "metadata": {
    "id": "U4eZ5HtVnnEE"
   },
   "outputs": [],
   "source": [
    "#try:\n",
    "#  from google.colab import files\n",
    "#except ImportError:\n",
    "#  pass\n",
    "#else:\n",
    "#  files.download('vecs.tsv')\n",
    "#  files.download('meta.tsv')"
   ]
  },
  {
   "cell_type": "code",
   "execution_count": null,
   "metadata": {
    "id": "cG8-ArY-qDcz"
   },
   "outputs": [],
   "source": [
    "sentence = [\"granny starting to fear spiders in the garden might be real\", \"game of thrones season finale showing this sunday night\"]\n",
    "sequences = tokenizer.texts_to_sequences(sentence)\n",
    "padded = pad_sequences(sequences, maxlen=max_length, padding=padding_type, truncating=trunc_type)\n",
    "print(model.predict(padded))"
   ]
  }
 ],
 "metadata": {
  "accelerator": "GPU",
  "colab": {
   "collapsed_sections": [],
   "name": "Course 3 - Week 2 - Lesson 2.ipynb",
   "provenance": [],
   "toc_visible": true
  },
  "kernelspec": {
   "display_name": "Python 3",
   "language": "python",
   "name": "python3"
  },
  "language_info": {
   "codemirror_mode": {
    "name": "ipython",
    "version": 3
   },
   "file_extension": ".py",
   "mimetype": "text/x-python",
   "name": "python",
   "nbconvert_exporter": "python",
   "pygments_lexer": "ipython3",
   "version": "3.6.10"
  }
 },
 "nbformat": 4,
 "nbformat_minor": 1
}
