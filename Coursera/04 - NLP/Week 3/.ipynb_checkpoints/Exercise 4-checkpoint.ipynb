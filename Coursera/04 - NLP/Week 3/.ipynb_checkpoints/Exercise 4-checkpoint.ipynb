{
 "cells": [
  {
   "cell_type": "code",
   "execution_count": 1,
   "metadata": {
    "id": "zX4Kg8DUTKWO"
   },
   "outputs": [],
   "source": [
    "#@title Licensed under the Apache License, Version 2.0 (the \"License\");\n",
    "# you may not use this file except in compliance with the License.\n",
    "# You may obtain a copy of the License at\n",
    "#\n",
    "# https://www.apache.org/licenses/LICENSE-2.0\n",
    "#\n",
    "# Unless required by applicable law or agreed to in writing, software\n",
    "# distributed under the License is distributed on an \"AS IS\" BASIS,\n",
    "# WITHOUT WARRANTIES OR CONDITIONS OF ANY KIND, either express or implied.\n",
    "# See the License for the specific language governing permissions and\n",
    "# limitations under the License."
   ]
  },
  {
   "cell_type": "markdown",
   "metadata": {
    "id": "JD9um1a95iXq"
   },
   "source": [
    "<a href=\"https://colab.research.google.com/github/lmoroney/dlaicourse/blob/master/TensorFlow%20In%20Practice/Course%203%20-%20NLP/Course%203%20-%20Week%203%20-%20Lesson%202.ipynb\" target=\"_parent\"><img src=\"https://colab.research.google.com/assets/colab-badge.svg\" alt=\"Open In Colab\"/></a>"
   ]
  },
  {
   "cell_type": "code",
   "execution_count": 6,
   "metadata": {
    "id": "jGwXGIXvFhXW"
   },
   "outputs": [
    {
     "name": "stdout",
     "output_type": "stream",
     "text": [
      "Model: \"sequential\"\n",
      "_________________________________________________________________\n",
      "Layer (type)                 Output Shape              Param #   \n",
      "=================================================================\n",
      "embedding (Embedding)        (None, 120, 16)           16000     \n",
      "_________________________________________________________________\n",
      "bidirectional (Bidirectional (None, 64)                12544     \n",
      "_________________________________________________________________\n",
      "dense (Dense)                (None, 24)                1560      \n",
      "_________________________________________________________________\n",
      "dense_1 (Dense)              (None, 1)                 25        \n",
      "=================================================================\n",
      "Total params: 30,129\n",
      "Trainable params: 30,129\n",
      "Non-trainable params: 0\n",
      "_________________________________________________________________\n",
      "Train on 20000 samples, validate on 6709 samples\n",
      "Epoch 1/50\n",
      "20000/20000 [==============================] - 26s 1ms/sample - loss: 0.4503 - accuracy: 0.7739 - val_loss: 0.3855 - val_accuracy: 0.8207\n",
      "Epoch 2/50\n",
      "20000/20000 [==============================] - 25s 1ms/sample - loss: 0.3543 - accuracy: 0.8392 - val_loss: 0.3916 - val_accuracy: 0.8135\n",
      "Epoch 3/50\n",
      "20000/20000 [==============================] - 30s 2ms/sample - loss: 0.3276 - accuracy: 0.8518 - val_loss: 0.3715 - val_accuracy: 0.8283\n",
      "Epoch 4/50\n",
      "20000/20000 [==============================] - 32s 2ms/sample - loss: 0.3118 - accuracy: 0.8616 - val_loss: 0.3729 - val_accuracy: 0.8322\n",
      "Epoch 5/50\n",
      "20000/20000 [==============================] - 27s 1ms/sample - loss: 0.3024 - accuracy: 0.8650 - val_loss: 0.3817 - val_accuracy: 0.8241\n",
      "Epoch 6/50\n",
      "20000/20000 [==============================] - 24s 1ms/sample - loss: 0.2926 - accuracy: 0.8715 - val_loss: 0.3785 - val_accuracy: 0.8365\n",
      "Epoch 7/50\n",
      "20000/20000 [==============================] - 21s 1ms/sample - loss: 0.2843 - accuracy: 0.8759 - val_loss: 0.3995 - val_accuracy: 0.8211\n",
      "Epoch 8/50\n",
      "20000/20000 [==============================] - 18s 898us/sample - loss: 0.2771 - accuracy: 0.8787 - val_loss: 0.3944 - val_accuracy: 0.8289\n",
      "Epoch 9/50\n",
      "20000/20000 [==============================] - 19s 959us/sample - loss: 0.2716 - accuracy: 0.8812 - val_loss: 0.3886 - val_accuracy: 0.8325\n",
      "Epoch 10/50\n",
      "20000/20000 [==============================] - 20s 991us/sample - loss: 0.2647 - accuracy: 0.8842 - val_loss: 0.4145 - val_accuracy: 0.8290\n",
      "Epoch 11/50\n",
      "20000/20000 [==============================] - 21s 1ms/sample - loss: 0.2594 - accuracy: 0.8863 - val_loss: 0.4024 - val_accuracy: 0.8253\n",
      "Epoch 12/50\n",
      "20000/20000 [==============================] - 23s 1ms/sample - loss: 0.2532 - accuracy: 0.8907 - val_loss: 0.4220 - val_accuracy: 0.8287\n",
      "Epoch 13/50\n",
      "20000/20000 [==============================] - 25s 1ms/sample - loss: 0.2462 - accuracy: 0.8942 - val_loss: 0.4234 - val_accuracy: 0.8284A: 0s - loss: 0.2461 - ac\n",
      "Epoch 14/50\n",
      "20000/20000 [==============================] - 26s 1ms/sample - loss: 0.2400 - accuracy: 0.8978 - val_loss: 0.4478 - val_accuracy: 0.8207\n",
      "Epoch 15/50\n",
      "20000/20000 [==============================] - 24s 1ms/sample - loss: 0.2311 - accuracy: 0.9013 - val_loss: 0.4421 - val_accuracy: 0.8229\n",
      "Epoch 16/50\n",
      "20000/20000 [==============================] - 22s 1ms/sample - loss: 0.2220 - accuracy: 0.9064 - val_loss: 0.4721 - val_accuracy: 0.8222\n",
      "Epoch 17/50\n",
      "20000/20000 [==============================] - 21s 1ms/sample - loss: 0.2138 - accuracy: 0.9104 - val_loss: 0.4773 - val_accuracy: 0.8190\n",
      "Epoch 18/50\n",
      "20000/20000 [==============================] - 20s 995us/sample - loss: 0.2055 - accuracy: 0.9151 - val_loss: 0.5230 - val_accuracy: 0.8174\n",
      "Epoch 19/50\n",
      "20000/20000 [==============================] - 23s 1ms/sample - loss: 0.1985 - accuracy: 0.9183 - val_loss: 0.5063 - val_accuracy: 0.8140\n",
      "Epoch 20/50\n",
      "20000/20000 [==============================] - 22s 1ms/sample - loss: 0.1913 - accuracy: 0.9215 - val_loss: 0.5373 - val_accuracy: 0.8170\n",
      "Epoch 21/50\n",
      "20000/20000 [==============================] - 24s 1ms/sample - loss: 0.1845 - accuracy: 0.9237 - val_loss: 0.5521 - val_accuracy: 0.8147\n",
      "Epoch 22/50\n",
      "20000/20000 [==============================] - 25s 1ms/sample - loss: 0.1757 - accuracy: 0.9259 - val_loss: 0.6339 - val_accuracy: 0.8107\n",
      "Epoch 23/50\n",
      "20000/20000 [==============================] - 23s 1ms/sample - loss: 0.1719 - accuracy: 0.9291 - val_loss: 0.6617 - val_accuracy: 0.8152\n",
      "Epoch 24/50\n",
      "20000/20000 [==============================] - 22s 1ms/sample - loss: 0.1656 - accuracy: 0.9311 - val_loss: 0.7198 - val_accuracy: 0.8077\n",
      "Epoch 25/50\n",
      "20000/20000 [==============================] - 20s 1ms/sample - loss: 0.1556 - accuracy: 0.9348 - val_loss: 0.7455 - val_accuracy: 0.8114\n",
      "Epoch 26/50\n",
      "20000/20000 [==============================] - 20s 984us/sample - loss: 0.1520 - accuracy: 0.9372 - val_loss: 0.7674 - val_accuracy: 0.8071\n",
      "Epoch 27/50\n",
      "20000/20000 [==============================] - 20s 1ms/sample - loss: 0.1477 - accuracy: 0.9385 - val_loss: 0.7552 - val_accuracy: 0.8107\n",
      "Epoch 28/50\n",
      "20000/20000 [==============================] - 22s 1ms/sample - loss: 0.1426 - accuracy: 0.9402 - val_loss: 0.9202 - val_accuracy: 0.8052\n",
      "Epoch 29/50\n",
      "20000/20000 [==============================] - 23s 1ms/sample - loss: 0.1361 - accuracy: 0.9426 - val_loss: 0.8505 - val_accuracy: 0.8053\n",
      "Epoch 30/50\n",
      "20000/20000 [==============================] - 25s 1ms/sample - loss: 0.1309 - accuracy: 0.9439 - val_loss: 1.0091 - val_accuracy: 0.8055\n",
      "Epoch 31/50\n",
      "20000/20000 [==============================] - 25s 1ms/sample - loss: 0.1250 - accuracy: 0.9473 - val_loss: 0.9348 - val_accuracy: 0.8110\n",
      "Epoch 32/50\n",
      "20000/20000 [==============================] - 23s 1ms/sample - loss: 0.1218 - accuracy: 0.9467 - val_loss: 1.0057 - val_accuracy: 0.8027\n",
      "Epoch 33/50\n",
      "20000/20000 [==============================] - 21s 1ms/sample - loss: 0.1189 - accuracy: 0.9490 - val_loss: 0.9934 - val_accuracy: 0.8030\n",
      "Epoch 34/50\n",
      "20000/20000 [==============================] - 20s 984us/sample - loss: 0.1064 - accuracy: 0.9521 - val_loss: 1.1169 - val_accuracy: 0.8079\n",
      "Epoch 35/50\n",
      "20000/20000 [==============================] - 20s 981us/sample - loss: 0.1079 - accuracy: 0.9528 - val_loss: 1.0107 - val_accuracy: 0.8003\n",
      "Epoch 36/50\n",
      "20000/20000 [==============================] - 20s 1ms/sample - loss: 0.1002 - accuracy: 0.9550 - val_loss: 1.1634 - val_accuracy: 0.7904\n",
      "Epoch 37/50\n",
      "20000/20000 [==============================] - 21s 1ms/sample - loss: 0.0992 - accuracy: 0.9556 - val_loss: 1.1149 - val_accuracy: 0.8064\n",
      "Epoch 38/50\n",
      "20000/20000 [==============================] - 23s 1ms/sample - loss: 0.0931 - accuracy: 0.9580 - val_loss: 1.3033 - val_accuracy: 0.8034\n",
      "Epoch 39/50\n",
      "20000/20000 [==============================] - 25s 1ms/sample - loss: 0.0948 - accuracy: 0.9566 - val_loss: 1.3461 - val_accuracy: 0.8016\n",
      "Epoch 40/50\n",
      "20000/20000 [==============================] - 24s 1ms/sample - loss: 0.0847 - accuracy: 0.9614 - val_loss: 1.4105 - val_accuracy: 0.8016\n",
      "Epoch 41/50\n",
      "20000/20000 [==============================] - 22s 1ms/sample - loss: 0.0817 - accuracy: 0.9617 - val_loss: 1.4725 - val_accuracy: 0.8027\n",
      "Epoch 42/50\n",
      "20000/20000 [==============================] - 20s 1ms/sample - loss: 0.0866 - accuracy: 0.9609 - val_loss: 1.4084 - val_accuracy: 0.7925\n",
      "Epoch 43/50\n",
      "20000/20000 [==============================] - 19s 964us/sample - loss: 0.0870 - accuracy: 0.9595 - val_loss: 1.4690 - val_accuracy: 0.7983\n",
      "Epoch 44/50\n",
      "20000/20000 [==============================] - 20s 984us/sample - loss: 0.0770 - accuracy: 0.9641 - val_loss: 1.3881 - val_accuracy: 0.7986\n",
      "Epoch 45/50\n",
      "20000/20000 [==============================] - 21s 1ms/sample - loss: 0.0754 - accuracy: 0.9650 - val_loss: 1.6057 - val_accuracy: 0.7991\n",
      "Epoch 46/50\n",
      "20000/20000 [==============================] - 23s 1ms/sample - loss: 0.0695 - accuracy: 0.9664 - val_loss: 1.5774 - val_accuracy: 0.8003\n",
      "Epoch 47/50\n",
      "20000/20000 [==============================] - 25s 1ms/sample - loss: 0.0706 - accuracy: 0.9661 - val_loss: 1.6989 - val_accuracy: 0.8004\n",
      "Epoch 48/50\n",
      "20000/20000 [==============================] - 26s 1ms/sample - loss: 0.0721 - accuracy: 0.9661 - val_loss: 1.6136 - val_accuracy: 0.7958\n",
      "Epoch 49/50\n"
     ]
    },
    {
     "name": "stdout",
     "output_type": "stream",
     "text": [
      "20000/20000 [==============================] - 23s 1ms/sample - loss: 0.0671 - accuracy: 0.9678 - val_loss: 1.7496 - val_accuracy: 0.8006\n",
      "Epoch 50/50\n",
      "20000/20000 [==============================] - 20s 1ms/sample - loss: 0.0634 - accuracy: 0.9690 - val_loss: 1.7676 - val_accuracy: 0.7971\n"
     ]
    }
   ],
   "source": [
    "import numpy as np\n",
    "\n",
    "import json\n",
    "import tensorflow as tf\n",
    "\n",
    "from tensorflow.keras.preprocessing.text import Tokenizer\n",
    "from tensorflow.keras.preprocessing.sequence import pad_sequences\n",
    "\n",
    "# !wget --no-check-certificate \\\n",
    "#     https://storage.googleapis.com/laurencemoroney-blog.appspot.com/sarcasm.json \\\n",
    "#     -O /tmp/sarcasm.json\n",
    "\n",
    "vocab_size = 1000\n",
    "embedding_dim = 16\n",
    "max_length = 120\n",
    "trunc_type='post'\n",
    "padding_type='post'\n",
    "oov_tok = \"<OOV>\"\n",
    "training_size = 20000\n",
    "\n",
    "path = r\"C:\\Users\\pmspr\\Documents\\Machine Learning\\Courses\\Tensorflow Cert\\Data\\nlp\\sarcasm.json\"\n",
    "with open(path, 'r') as f:\n",
    "    datastore = json.load(f)\n",
    "\n",
    "\n",
    "sentences = []\n",
    "labels = []\n",
    "urls = []\n",
    "for item in datastore:\n",
    "    sentences.append(item['headline'])\n",
    "    labels.append(item['is_sarcastic'])\n",
    "\n",
    "training_sentences = sentences[0:training_size]\n",
    "testing_sentences = sentences[training_size:]\n",
    "training_labels = labels[0:training_size]\n",
    "testing_labels = labels[training_size:]\n",
    "\n",
    "tokenizer = Tokenizer(num_words=vocab_size, oov_token=oov_tok)\n",
    "tokenizer.fit_on_texts(training_sentences)\n",
    "\n",
    "word_index = tokenizer.word_index\n",
    "\n",
    "training_sequences = tokenizer.texts_to_sequences(training_sentences)\n",
    "training_padded = pad_sequences(training_sequences, maxlen=max_length, padding=padding_type, truncating=trunc_type)\n",
    "\n",
    "testing_sequences = tokenizer.texts_to_sequences(testing_sentences)\n",
    "testing_padded = pad_sequences(testing_sequences, maxlen=max_length, padding=padding_type, truncating=trunc_type)\n",
    "\n",
    "model = tf.keras.Sequential([\n",
    "    tf.keras.layers.Embedding(vocab_size, embedding_dim, input_length=max_length),\n",
    "    tf.keras.layers.Bidirectional(tf.keras.layers.LSTM(32)),\n",
    "    tf.keras.layers.Dense(24, activation='relu'),\n",
    "    tf.keras.layers.Dense(1, activation='sigmoid')\n",
    "])\n",
    "model.compile(loss='binary_crossentropy',optimizer='adam',metrics=['accuracy'])\n",
    "model.summary()\n",
    "\n",
    "num_epochs = 50\n",
    "training_padded = np.array(training_padded)\n",
    "training_labels = np.array(training_labels)\n",
    "testing_padded = np.array(testing_padded)\n",
    "testing_labels = np.array(testing_labels)\n",
    "history = model.fit(training_padded, training_labels, epochs=num_epochs, validation_data=(testing_padded, testing_labels), verbose=1)\n"
   ]
  },
  {
   "cell_type": "code",
   "execution_count": 7,
   "metadata": {
    "id": "g9DC6dmLF8DC"
   },
   "outputs": [
    {
     "data": {
      "image/png": "[encoded data removed]",
      "text/plain": [
       "<Figure size 432x288 with 1 Axes>"
      ]
     },
     "metadata": {
      "needs_background": "light"
     },
     "output_type": "display_data"
    },
    {
     "data": {
      "image/png": "[encoded data removed]",
      "text/plain": [
       "<Figure size 432x288 with 1 Axes>"
      ]
     },
     "metadata": {
      "needs_background": "light"
     },
     "output_type": "display_data"
    }
   ],
   "source": [
    "import matplotlib.pyplot as plt\n",
    "\n",
    "\n",
    "def plot_graphs(history, string):\n",
    "  plt.plot(history.history[string])\n",
    "  plt.plot(history.history['val_'+string])\n",
    "  plt.xlabel(\"Epochs\")\n",
    "  plt.ylabel(string)\n",
    "  plt.legend([string, 'val_'+string])\n",
    "  plt.show()\n",
    "\n",
    "plot_graphs(history, 'accuracy')\n",
    "plot_graphs(history, 'loss')"
   ]
  },
  {
   "cell_type": "code",
   "execution_count": 8,
   "metadata": {
    "id": "7ZEZIUppGhdi"
   },
   "outputs": [],
   "source": [
    "model.save(\"test.h5\")"
   ]
  }
 ],
 "metadata": {
  "accelerator": "GPU",
  "colab": {
   "collapsed_sections": [],
   "name": "Course 3 - Week 3 - Lesson 2.ipynb",
   "provenance": [],
   "toc_visible": true
  },
  "kernelspec": {
   "display_name": "Python 3",
   "language": "python",
   "name": "python3"
  },
  "language_info": {
   "codemirror_mode": {
    "name": "ipython",
    "version": 3
   },
   "file_extension": ".py",
   "mimetype": "text/x-python",
   "name": "python",
   "nbconvert_exporter": "python",
   "pygments_lexer": "ipython3",
   "version": "3.6.10"
  }
 },
 "nbformat": 4,
 "nbformat_minor": 1
}
