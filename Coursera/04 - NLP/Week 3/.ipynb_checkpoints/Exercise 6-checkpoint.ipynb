{
 "cells": [
  {
   "cell_type": "code",
   "execution_count": null,
   "metadata": {
    "id": "zX4Kg8DUTKWO"
   },
   "outputs": [],
   "source": [
    "#@title Licensed under the Apache License, Version 2.0 (the \"License\");\n",
    "# you may not use this file except in compliance with the License.\n",
    "# You may obtain a copy of the License at\n",
    "#\n",
    "# https://www.apache.org/licenses/LICENSE-2.0\n",
    "#\n",
    "# Unless required by applicable law or agreed to in writing, software\n",
    "# distributed under the License is distributed on an \"AS IS\" BASIS,\n",
    "# WITHOUT WARRANTIES OR CONDITIONS OF ANY KIND, either express or implied.\n",
    "# See the License for the specific language governing permissions and\n",
    "# limitations under the License."
   ]
  },
  {
   "cell_type": "code",
   "execution_count": 45,
   "metadata": {
    "id": "hmA6EzkQJ5jt"
   },
   "outputs": [],
   "source": [
    "import json\n",
    "import tensorflow as tf\n",
    "import csv\n",
    "import random\n",
    "import numpy as np\n",
    "import os\n",
    "\n",
    "from tensorflow.keras.preprocessing.text import Tokenizer\n",
    "from tensorflow.keras.preprocessing.sequence import pad_sequences\n",
    "from tensorflow.keras.utils import to_categorical\n",
    "from tensorflow.keras import regularizers\n",
    "\n",
    "\n",
    "embedding_dim = 100\n",
    "max_length = 16\n",
    "trunc_type='post'\n",
    "padding_type='post'\n",
    "oov_tok = \"<OOV>\"\n",
    "training_size= 160000 #Your dataset size here. Experiment using smaller values (i.e. 16000), but don't forget to train on at least 160000 to see the best effects\n",
    "test_portion=.1\n",
    "\n",
    "corpus = []\n",
    "\n",
    "path = r'C:\\Users\\pmspr\\Documents\\Machine Learning\\Courses\\Tensorflow Cert\\Git\\Tensorflow-Cert\\Coursera\\01 - Data'\n",
    "folder = 'nlp'\n",
    "abs_path = os.path.join(path,folder)\n",
    "if not os.path.exists(os.path.join(abs_path, 'training_cleaned.csv')):\n",
    "    sp_text_r = tf.keras.utils.get_file('training_cleaned.csv',\n",
    "                                            cache_subdir=abs_path,\n",
    "                                            origin = 'https://storage.googleapis.com/laurencemoroney-blog.appspot.com/training_cleaned.csv',\n",
    "                                            extract = True)\n",
    "\n",
    "    sp_text = abs_path\n",
    "else:\n",
    "    sp_text = abs_path"
   ]
  },
  {
   "cell_type": "code",
   "execution_count": 46,
   "metadata": {
    "colab": {
     "base_uri": "https://localhost:8080/",
     "height": 204
    },
    "id": "bM0l_dORKqE0",
    "outputId": "491ba86b-f780-4355-a4be-765565a29c8c"
   },
   "outputs": [],
   "source": [
    "# Note that I cleaned the Stanford dataset to remove LATIN1 encoding to make it easier for Python CSV reader\n",
    "# You can do that yourself with:\n",
    "# iconv -f LATIN1 -t UTF8 training.1600000.processed.noemoticon.csv -o training_cleaned.csv\n",
    "# I then hosted it on my site to make it easier to use in this notebook\n",
    "\n",
    "#!wget --no-check-certificate \\\n",
    "#    https://storage.googleapis.com/laurencemoroney-blog.appspot.com/training_cleaned.csv \\\n",
    "#    -O /tmp/training_cleaned.csv\n",
    "\n",
    "num_sentences = 0\n",
    "corpus = []\n",
    "filename = os.path.join(sp_text, 'training_cleaned.csv')\n",
    "with open(filename,encoding='utf8') as csvfile:\n",
    "    reader = csv.reader(csvfile, delimiter=',')\n",
    "    for row in reader:\n",
    "      # Your Code here. Create list items where the first item is the text, found in row[5], and the second is the label. Note that the label is a '0' or a '4' in the text. When it's the former, make\n",
    "      # your label to be 0, otherwise 1. Keep a count of the number of sentences in num_sentences\n",
    "        list_item=[]\n",
    "        # YOUR CODE HERE\n",
    "        list_item.append(row[5])\n",
    "        if row[0].strip() == str(0):\n",
    "            list_item.append(row[0])\n",
    "        else:\n",
    "            list_item.append('1')\n",
    "        num_sentences = num_sentences + 1\n",
    "        corpus.append(list_item)\n"
   ]
  },
  {
   "cell_type": "code",
   "execution_count": 47,
   "metadata": {
    "colab": {
     "base_uri": "https://localhost:8080/",
     "height": 68
    },
    "id": "3kxblBUjEUX-",
    "outputId": "3c0227a2-e74b-4d9b-cabb-f9ee150571b1"
   },
   "outputs": [
    {
     "name": "stdout",
     "output_type": "stream",
     "text": [
      "1600000\n",
      "1600000\n",
      "['@Kenichan I dived many times for the ball. Managed to save 50%  The rest go out of bounds', '0']\n"
     ]
    }
   ],
   "source": [
    "print(num_sentences)\n",
    "print(len(corpus))\n",
    "print(corpus[2])\n",
    "\n",
    "# Expected Output:\n",
    "# 1600000\n",
    "# 1600000\n",
    "# [\"is upset that he can't update his Facebook by texting it... and might cry as a result  School today also. Blah!\", 0]"
   ]
  },
  {
   "cell_type": "code",
   "execution_count": 54,
   "metadata": {
    "id": "ohOGz24lsNAD"
   },
   "outputs": [],
   "source": [
    "sentences=[]\n",
    "labels=[]\n",
    "random.shuffle(corpus)\n",
    "for x in range(training_size):\n",
    "    sentences.append(corpus[x][0])\n",
    "    labels.append(corpus[x][1])\n",
    "\n",
    "\n",
    "tokenizer = Tokenizer(oov_token=oov_tok)\n",
    "tokenizer.fit_on_texts(sentences)\n",
    "\n",
    "word_index = tokenizer.word_index\n",
    "vocab_size=len(word_index)\n",
    "\n",
    "sequences = tokenizer.texts_to_sequences(sentences)\n",
    "padded = pad_sequences(sequences, padding=padding_type, truncating=trunc_type, maxlen=max_length)\n",
    "\n",
    "split = int(test_portion * training_size)\n",
    "\n",
    "test_sequences = padded[:split]\n",
    "training_sequences = padded[split:]\n",
    "test_labels = np.array(labels[:split]).astype(np.int)\n",
    "training_labels = np.array(labels[split:]).astype(np.int)"
   ]
  },
  {
   "cell_type": "code",
   "execution_count": 55,
   "metadata": {
    "colab": {
     "base_uri": "https://localhost:8080/",
     "height": 51
    },
    "id": "gIrtRem1En3N",
    "outputId": "4ad8401c-8dba-420d-8aee-38dac0b0839a"
   },
   "outputs": [
    {
     "name": "stdout",
     "output_type": "stream",
     "text": [
      "138581\n",
      "2\n"
     ]
    }
   ],
   "source": [
    "print(vocab_size)\n",
    "print(word_index['i'])\n",
    "# Expected Output\n",
    "# 138858\n",
    "# 1"
   ]
  },
  {
   "cell_type": "code",
   "execution_count": 57,
   "metadata": {
    "colab": {
     "base_uri": "https://localhost:8080/",
     "height": 204
    },
    "id": "C1zdgJkusRh0",
    "outputId": "b6edd322-8191-45e7-cb12-08921685a72f"
   },
   "outputs": [],
   "source": [
    "# Note this is the 100 dimension version of GloVe from Stanford\n",
    "# I unzipped and hosted it on my site to make this notebook easier\n",
    "#!wget --no-check-certificate \\\n",
    "#    https://storage.googleapis.com/laurencemoroney-blog.appspot.com/glove.6B.100d.txt \\\n",
    "#    -O /tmp/glove.6B.100d.txt\n",
    "path = r'C:\\Users\\pmspr\\Documents\\Machine Learning\\Courses\\Tensorflow Cert\\Git\\Tensorflow-Cert\\Coursera\\01 - Data'\n",
    "folder = 'nlp'\n",
    "abs_path = os.path.join(path,folder)\n",
    "if not os.path.exists(os.path.join(abs_path, 'glove.6B.100d.txt')):\n",
    "    gl_text_r = tf.keras.utils.get_file('glove.6B.100d.txt',\n",
    "                                        cache_subdir=abs_path,\n",
    "                                        origin = 'https://storage.googleapis.com/laurencemoroney-blog.appspot.com/glove.6B.100d.txt',\n",
    "                                        extract = True)\n",
    "\n",
    "    gl_text = abs_path\n",
    "else:\n",
    "    gl_text = abs_path\n",
    "\n",
    "filename = os.path.join(sp_text, 'glove.6B.100d.txt')    \n",
    "embeddings_index = {};\n",
    "with open(filename,encoding='utf8') as f:\n",
    "    for line in f:\n",
    "        values = line.split();\n",
    "        word = values[0];\n",
    "        coefs = np.asarray(values[1:], dtype='float32');\n",
    "        embeddings_index[word] = coefs;\n",
    "\n",
    "embeddings_matrix = np.zeros((vocab_size+1, embedding_dim));\n",
    "for word, i in word_index.items():\n",
    "    embedding_vector = embeddings_index.get(word);\n",
    "    if embedding_vector is not None:\n",
    "        embeddings_matrix[i] = embedding_vector;"
   ]
  },
  {
   "cell_type": "code",
   "execution_count": 58,
   "metadata": {
    "colab": {
     "base_uri": "https://localhost:8080/",
     "height": 34
    },
    "id": "71NLk_lpFLNt",
    "outputId": "97cb88db-754f-4375-fdc3-876cd6b4fdce"
   },
   "outputs": [
    {
     "name": "stdout",
     "output_type": "stream",
     "text": [
      "138582\n"
     ]
    }
   ],
   "source": [
    "print(len(embeddings_matrix))\n",
    "# Expected Output\n",
    "# 138859"
   ]
  },
  {
   "cell_type": "code",
   "execution_count": 59,
   "metadata": {
    "id": "iKKvbuEBOGFz"
   },
   "outputs": [
    {
     "name": "stdout",
     "output_type": "stream",
     "text": [
      "Model: \"sequential_2\"\n",
      "_________________________________________________________________\n",
      "Layer (type)                 Output Shape              Param #   \n",
      "=================================================================\n",
      "embedding_2 (Embedding)      (None, 16, 100)           13858200  \n",
      "_________________________________________________________________\n",
      "bidirectional_2 (Bidirection (None, 64)                34048     \n",
      "_________________________________________________________________\n",
      "dense_4 (Dense)              (None, 24)                1560      \n",
      "_________________________________________________________________\n",
      "dense_5 (Dense)              (None, 1)                 25        \n",
      "=================================================================\n",
      "Total params: 13,893,833\n",
      "Trainable params: 35,633\n",
      "Non-trainable params: 13,858,200\n",
      "_________________________________________________________________\n",
      "Train on 144000 samples, validate on 16000 samples\n",
      "Epoch 1/50\n",
      "144000/144000 - 30s - loss: 0.5355 - accuracy: 0.7261 - val_loss: 0.5049 - val_accuracy: 0.7524\n",
      "Epoch 2/50\n",
      "144000/144000 - 28s - loss: 0.4891 - accuracy: 0.7601 - val_loss: 0.4847 - val_accuracy: 0.7657\n",
      "Epoch 3/50\n",
      "144000/144000 - 32s - loss: 0.4679 - accuracy: 0.7741 - val_loss: 0.4780 - val_accuracy: 0.7682\n",
      "Epoch 4/50\n",
      "144000/144000 - 31s - loss: 0.4530 - accuracy: 0.7841 - val_loss: 0.4793 - val_accuracy: 0.7717\n",
      "Epoch 5/50\n",
      "144000/144000 - 28s - loss: 0.4393 - accuracy: 0.7929 - val_loss: 0.4804 - val_accuracy: 0.7701\n",
      "Epoch 6/50\n",
      "144000/144000 - 29s - loss: 0.4277 - accuracy: 0.7993 - val_loss: 0.4802 - val_accuracy: 0.7653\n",
      "Epoch 7/50\n",
      "144000/144000 - 30s - loss: 0.4164 - accuracy: 0.8064 - val_loss: 0.4801 - val_accuracy: 0.7724\n",
      "Epoch 8/50\n",
      "144000/144000 - 29s - loss: 0.4065 - accuracy: 0.8114 - val_loss: 0.4865 - val_accuracy: 0.7689\n",
      "Epoch 9/50\n",
      "144000/144000 - 30s - loss: 0.3965 - accuracy: 0.8174 - val_loss: 0.4912 - val_accuracy: 0.7618\n",
      "Epoch 10/50\n",
      "144000/144000 - 29s - loss: 0.3872 - accuracy: 0.8232 - val_loss: 0.4955 - val_accuracy: 0.7656\n",
      "Epoch 11/50\n",
      "144000/144000 - 29s - loss: 0.3783 - accuracy: 0.8266 - val_loss: 0.5087 - val_accuracy: 0.7650\n",
      "Epoch 12/50\n",
      "144000/144000 - 28s - loss: 0.3700 - accuracy: 0.8315 - val_loss: 0.5098 - val_accuracy: 0.7635\n",
      "Epoch 13/50\n",
      "144000/144000 - 29s - loss: 0.3618 - accuracy: 0.8352 - val_loss: 0.5219 - val_accuracy: 0.7599\n",
      "Epoch 14/50\n",
      "144000/144000 - 29s - loss: 0.3546 - accuracy: 0.8406 - val_loss: 0.5343 - val_accuracy: 0.7607\n",
      "Epoch 15/50\n",
      "144000/144000 - 30s - loss: 0.3468 - accuracy: 0.8433 - val_loss: 0.5504 - val_accuracy: 0.7624\n",
      "Epoch 16/50\n",
      "144000/144000 - 31s - loss: 0.3400 - accuracy: 0.8463 - val_loss: 0.5408 - val_accuracy: 0.7611\n",
      "Epoch 17/50\n",
      "144000/144000 - 30s - loss: 0.3333 - accuracy: 0.8502 - val_loss: 0.5720 - val_accuracy: 0.7581\n",
      "Epoch 18/50\n",
      "144000/144000 - 28s - loss: 0.3268 - accuracy: 0.8535 - val_loss: 0.5665 - val_accuracy: 0.7573\n",
      "Epoch 19/50\n",
      "144000/144000 - 28s - loss: 0.3209 - accuracy: 0.8559 - val_loss: 0.5846 - val_accuracy: 0.7589\n",
      "Epoch 20/50\n",
      "144000/144000 - 28s - loss: 0.3153 - accuracy: 0.8590 - val_loss: 0.5868 - val_accuracy: 0.7568\n",
      "Epoch 21/50\n",
      "144000/144000 - 26s - loss: 0.3081 - accuracy: 0.8619 - val_loss: 0.6160 - val_accuracy: 0.7516\n",
      "Epoch 22/50\n",
      "144000/144000 - 27s - loss: 0.3042 - accuracy: 0.8634 - val_loss: 0.6289 - val_accuracy: 0.7534\n",
      "Epoch 23/50\n",
      "144000/144000 - 30s - loss: 0.2980 - accuracy: 0.8664 - val_loss: 0.6524 - val_accuracy: 0.7526\n",
      "Epoch 24/50\n",
      "144000/144000 - 31s - loss: 0.2936 - accuracy: 0.8684 - val_loss: 0.6610 - val_accuracy: 0.7477\n",
      "Epoch 25/50\n",
      "144000/144000 - 30s - loss: 0.2887 - accuracy: 0.8712 - val_loss: 0.6711 - val_accuracy: 0.7496\n",
      "Epoch 26/50\n",
      "144000/144000 - 29s - loss: 0.2833 - accuracy: 0.8743 - val_loss: 0.6910 - val_accuracy: 0.7508\n",
      "Epoch 27/50\n",
      "144000/144000 - 26s - loss: 0.2792 - accuracy: 0.8754 - val_loss: 0.7054 - val_accuracy: 0.7458\n",
      "Epoch 28/50\n",
      "144000/144000 - 26s - loss: 0.2750 - accuracy: 0.8777 - val_loss: 0.7225 - val_accuracy: 0.7465\n",
      "Epoch 29/50\n",
      "144000/144000 - 28s - loss: 0.2710 - accuracy: 0.8793 - val_loss: 0.7369 - val_accuracy: 0.7527\n",
      "Epoch 30/50\n",
      "144000/144000 - 29s - loss: 0.2673 - accuracy: 0.8814 - val_loss: 0.7560 - val_accuracy: 0.7468\n",
      "Epoch 31/50\n",
      "144000/144000 - 25s - loss: 0.2630 - accuracy: 0.8832 - val_loss: 0.7783 - val_accuracy: 0.7486\n",
      "Epoch 32/50\n",
      "144000/144000 - 29s - loss: 0.2595 - accuracy: 0.8852 - val_loss: 0.7898 - val_accuracy: 0.7393\n",
      "Epoch 33/50\n",
      "144000/144000 - 29s - loss: 0.2565 - accuracy: 0.8863 - val_loss: 0.7914 - val_accuracy: 0.7444\n",
      "Epoch 34/50\n",
      "144000/144000 - 29s - loss: 0.2524 - accuracy: 0.8883 - val_loss: 0.8177 - val_accuracy: 0.7396\n",
      "Epoch 35/50\n",
      "144000/144000 - 29s - loss: 0.2510 - accuracy: 0.8891 - val_loss: 0.8174 - val_accuracy: 0.7414\n",
      "Epoch 36/50\n",
      "144000/144000 - 26s - loss: 0.2464 - accuracy: 0.8911 - val_loss: 0.8297 - val_accuracy: 0.7407\n",
      "Epoch 37/50\n",
      "144000/144000 - 28s - loss: 0.2432 - accuracy: 0.8922 - val_loss: 0.8597 - val_accuracy: 0.7399\n",
      "Epoch 38/50\n",
      "144000/144000 - 28s - loss: 0.2407 - accuracy: 0.8935 - val_loss: 0.8866 - val_accuracy: 0.7376\n",
      "Epoch 39/50\n",
      "144000/144000 - 28s - loss: 0.2381 - accuracy: 0.8944 - val_loss: 0.9056 - val_accuracy: 0.7355\n",
      "Epoch 40/50\n",
      "144000/144000 - 28s - loss: 0.2344 - accuracy: 0.8971 - val_loss: 0.9308 - val_accuracy: 0.7383\n",
      "Epoch 41/50\n",
      "144000/144000 - 29s - loss: 0.2328 - accuracy: 0.8967 - val_loss: 0.9198 - val_accuracy: 0.7361\n",
      "Epoch 42/50\n",
      "144000/144000 - 31s - loss: 0.2296 - accuracy: 0.8986 - val_loss: 0.9530 - val_accuracy: 0.7389\n",
      "Epoch 43/50\n",
      "144000/144000 - 31s - loss: 0.2275 - accuracy: 0.8999 - val_loss: 0.9408 - val_accuracy: 0.7364\n",
      "Epoch 44/50\n",
      "144000/144000 - 31s - loss: 0.2260 - accuracy: 0.9001 - val_loss: 0.9586 - val_accuracy: 0.7352\n",
      "Epoch 45/50\n",
      "144000/144000 - 30s - loss: 0.2239 - accuracy: 0.9017 - val_loss: 0.9766 - val_accuracy: 0.7321\n",
      "Epoch 46/50\n",
      "144000/144000 - 28s - loss: 0.2208 - accuracy: 0.9030 - val_loss: 1.0204 - val_accuracy: 0.7344\n",
      "Epoch 47/50\n",
      "144000/144000 - 28s - loss: 0.2192 - accuracy: 0.9028 - val_loss: 0.9928 - val_accuracy: 0.7306\n",
      "Epoch 48/50\n",
      "144000/144000 - 28s - loss: 0.2187 - accuracy: 0.9035 - val_loss: 0.9990 - val_accuracy: 0.7322\n",
      "Epoch 49/50\n",
      "144000/144000 - 29s - loss: 0.2158 - accuracy: 0.9049 - val_loss: 1.0555 - val_accuracy: 0.7346\n",
      "Epoch 50/50\n",
      "144000/144000 - 30s - loss: 0.2150 - accuracy: 0.9064 - val_loss: 1.0579 - val_accuracy: 0.7312\n",
      "Training Complete\n"
     ]
    }
   ],
   "source": [
    "model = tf.keras.Sequential([\n",
    "    tf.keras.layers.Embedding(vocab_size+1, embedding_dim, input_length=max_length, weights=[embeddings_matrix], trainable=False),\n",
    "    # YOUR CODE HERE - experiment with combining different types, such as convolutions and LSTMs\n",
    "    tf.keras.layers.Bidirectional(tf.keras.layers.LSTM(32)),\n",
    "    tf.keras.layers.Dense(24, activation='relu'),\n",
    "    tf.keras.layers.Dense(1, activation='sigmoid')\n",
    "])\n",
    "model.compile(loss='binary_crossentropy',optimizer='adam',metrics=['accuracy'])\n",
    "model.summary()\n",
    "\n",
    "num_epochs = 50\n",
    "history = model.fit(training_sequences, training_labels, epochs=num_epochs, validation_data=(test_sequences, test_labels), verbose=2)\n",
    "\n",
    "print(\"Training Complete\")\n"
   ]
  },
  {
   "cell_type": "code",
   "execution_count": 60,
   "metadata": {
    "id": "qxju4ItJKO8F"
   },
   "outputs": [
    {
     "data": {
      "text/plain": [
       "<Figure size 432x288 with 0 Axes>"
      ]
     },
     "execution_count": 60,
     "metadata": {},
     "output_type": "execute_result"
    },
    {
     "data": {
      "image/png": "[encoded data removed]",
      "text/plain": [
       "<Figure size 432x288 with 1 Axes>"
      ]
     },
     "metadata": {
      "needs_background": "light"
     },
     "output_type": "display_data"
    },
    {
     "data": {
      "image/png": "[encoded data removed]",
      "text/plain": [
       "<Figure size 432x288 with 1 Axes>"
      ]
     },
     "metadata": {
      "needs_background": "light"
     },
     "output_type": "display_data"
    },
    {
     "data": {
      "text/plain": [
       "<Figure size 432x288 with 0 Axes>"
      ]
     },
     "metadata": {},
     "output_type": "display_data"
    }
   ],
   "source": [
    "import matplotlib.image  as mpimg\n",
    "import matplotlib.pyplot as plt\n",
    "\n",
    "#-----------------------------------------------------------\n",
    "# Retrieve a list of list results on training and test data\n",
    "# sets for each training epoch\n",
    "#-----------------------------------------------------------\n",
    "acc=history.history['accuracy']\n",
    "val_acc=history.history['val_accuracy']\n",
    "loss=history.history['loss']\n",
    "val_loss=history.history['val_loss']\n",
    "\n",
    "epochs=range(len(acc)) # Get number of epochs\n",
    "\n",
    "#------------------------------------------------\n",
    "# Plot training and validation accuracy per epoch\n",
    "#------------------------------------------------\n",
    "plt.plot(epochs, acc, 'r')\n",
    "plt.plot(epochs, val_acc, 'b')\n",
    "plt.title('Training and validation accuracy')\n",
    "plt.xlabel(\"Epochs\")\n",
    "plt.ylabel(\"Accuracy\")\n",
    "plt.legend([\"Accuracy\", \"Validation Accuracy\"])\n",
    "\n",
    "plt.figure()\n",
    "\n",
    "#------------------------------------------------\n",
    "# Plot training and validation loss per epoch\n",
    "#------------------------------------------------\n",
    "plt.plot(epochs, loss, 'r')\n",
    "plt.plot(epochs, val_loss, 'b')\n",
    "plt.title('Training and validation loss')\n",
    "plt.xlabel(\"Epochs\")\n",
    "plt.ylabel(\"Loss\")\n",
    "plt.legend([\"Loss\", \"Validation Loss\"])\n",
    "\n",
    "plt.figure()\n",
    "\n",
    "\n",
    "# Expected Output\n",
    "# A chart where the validation loss does not increase sharply!"
   ]
  },
  {
   "cell_type": "code",
   "execution_count": null,
   "metadata": {},
   "outputs": [],
   "source": []
  }
 ],
 "metadata": {
  "accelerator": "GPU",
  "colab": {
   "name": "NLP Course - Week 3 Exercise Question.ipynb",
   "provenance": [],
   "toc_visible": true
  },
  "kernelspec": {
   "display_name": "Python 3",
   "language": "python",
   "name": "python3"
  },
  "language_info": {
   "codemirror_mode": {
    "name": "ipython",
    "version": 3
   },
   "file_extension": ".py",
   "mimetype": "text/x-python",
   "name": "python",
   "nbconvert_exporter": "python",
   "pygments_lexer": "ipython3",
   "version": "3.6.10"
  }
 },
 "nbformat": 4,
 "nbformat_minor": 1
}
