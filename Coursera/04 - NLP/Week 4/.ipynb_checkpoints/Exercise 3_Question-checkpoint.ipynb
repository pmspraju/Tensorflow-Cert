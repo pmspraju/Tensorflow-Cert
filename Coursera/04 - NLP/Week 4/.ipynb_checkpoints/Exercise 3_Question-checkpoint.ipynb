{
 "cells": [
  {
   "cell_type": "code",
   "execution_count": 1,
   "metadata": {
    "id": "zX4Kg8DUTKWO"
   },
   "outputs": [],
   "source": [
    "#@title Licensed under the Apache License, Version 2.0 (the \"License\");\n",
    "# you may not use this file except in compliance with the License.\n",
    "# You may obtain a copy of the License at\n",
    "#\n",
    "# https://www.apache.org/licenses/LICENSE-2.0\n",
    "#\n",
    "# Unless required by applicable law or agreed to in writing, software\n",
    "# distributed under the License is distributed on an \"AS IS\" BASIS,\n",
    "# WITHOUT WARRANTIES OR CONDITIONS OF ANY KIND, either express or implied.\n",
    "# See the License for the specific language governing permissions and\n",
    "# limitations under the License."
   ]
  },
  {
   "cell_type": "code",
   "execution_count": 2,
   "metadata": {
    "id": "BOwsuGQQY9OL"
   },
   "outputs": [],
   "source": [
    "import tensorflow as tf\n",
    "import os\n",
    "from tensorflow.keras.preprocessing.sequence import pad_sequences\n",
    "from tensorflow.keras.layers import Embedding, LSTM, Dense, Dropout, Bidirectional\n",
    "from tensorflow.keras.preprocessing.text import Tokenizer\n",
    "from tensorflow.keras.models import Sequential\n",
    "from tensorflow.keras.optimizers import Adam\n",
    "### YOUR CODE HERE\n",
    "from tensorflow.keras import regularizers\n",
    "###\n",
    "import tensorflow.keras.utils as ku \n",
    "import numpy as np \n",
    "\n",
    "path = r'C:\\Users\\pmspr\\Documents\\Machine Learning\\Courses\\Tensorflow Cert\\Git\\Tensorflow-Cert\\Coursera\\01 - Data'\n",
    "folder = 'nlp'\n",
    "abs_path = os.path.join(path,folder)\n",
    "if not os.path.exists(os.path.join(abs_path, 'sonnets.txt')):\n",
    "    son_text_r = tf.keras.utils.get_file('sonnets.txt',\n",
    "                                        cache_subdir=abs_path,\n",
    "                                        origin = 'https://storage.googleapis.com/laurencemoroney-blog.appspot.com/sonnets.txt',\n",
    "                                        extract = True)\n",
    "\n",
    "    son_text = abs_path\n",
    "else:\n",
    "    son_text = abs_path"
   ]
  },
  {
   "cell_type": "code",
   "execution_count": 3,
   "metadata": {
    "id": "PRnDnCW-Z7qv"
   },
   "outputs": [
    {
     "name": "stdout",
     "output_type": "stream",
     "text": [
      "11\n",
      "(15462, 10)\n",
      "(15462, 3211)\n"
     ]
    }
   ],
   "source": [
    "#!wget --no-check-certificate \\\n",
    "#    https://storage.googleapis.com/laurencemoroney-blog.appspot.com/sonnets.txt \\\n",
    "#    -O /tmp/sonnets.txt\n",
    "filename = os.path.join(son_text, 'sonnets.txt')\n",
    "data = open(filename).read()\n",
    "\n",
    "corpus = data.lower().split(\"\\n\")\n",
    "\n",
    "tokenizer = Tokenizer()\n",
    "tokenizer.fit_on_texts(corpus)\n",
    "total_words = len(tokenizer.word_index) + 1\n",
    "\n",
    "# create input sequences using list of tokens\n",
    "input_sequences = []\n",
    "for line in corpus:\n",
    "    token_list = tokenizer.texts_to_sequences([line])[0]\n",
    "    for i in range(1, len(token_list)):\n",
    "        n_gram_sequence = token_list[:i+1]\n",
    "        input_sequences.append(n_gram_sequence)\n",
    "\n",
    "\n",
    "# pad sequences \n",
    "max_sequence_len = max([len(x) for x in input_sequences])\n",
    "input_sequences = np.array(pad_sequences(input_sequences, maxlen=max_sequence_len, padding='pre'))\n",
    "\n",
    "# create predictors and label\n",
    "predictors, label = input_sequences[:,:-1],input_sequences[:,-1]\n",
    "\n",
    "label = ku.to_categorical(label, num_classes=total_words)\n",
    "print(max_sequence_len)\n",
    "print(predictors.shape)\n",
    "print(label.shape)"
   ]
  },
  {
   "cell_type": "code",
   "execution_count": 4,
   "metadata": {
    "id": "w9vH8Y59ajYL"
   },
   "outputs": [
    {
     "name": "stdout",
     "output_type": "stream",
     "text": [
      "Model: \"sequential\"\n",
      "_________________________________________________________________\n",
      "Layer (type)                 Output Shape              Param #   \n",
      "=================================================================\n",
      "embedding (Embedding)        (None, 10, 100)           321100    \n",
      "_________________________________________________________________\n",
      "bidirectional (Bidirectional (None, 10, 300)           301200    \n",
      "_________________________________________________________________\n",
      "dropout (Dropout)            (None, 10, 300)           0         \n",
      "_________________________________________________________________\n",
      "bidirectional_1 (Bidirection (None, 300)               541200    \n",
      "_________________________________________________________________\n",
      "dense (Dense)                (None, 3211)              966511    \n",
      "=================================================================\n",
      "Total params: 2,130,011\n",
      "Trainable params: 2,130,011\n",
      "Non-trainable params: 0\n",
      "_________________________________________________________________\n",
      "None\n"
     ]
    }
   ],
   "source": [
    "model = Sequential()\n",
    "model.add(Embedding(total_words, 100, input_length=max_sequence_len-1))\n",
    "model.add(Bidirectional(LSTM(150,return_sequences=True)))\n",
    "model.add(tf.keras.layers.Dropout(0.5))\n",
    "model.add(Bidirectional(LSTM(150)))\n",
    "#model.add(Dense(total_words/2, kernel_initializer='ones',\n",
    "#                kernel_regularizer=tf.keras.regularizers.l1(0.01),\n",
    "#                activity_regularizer=tf.keras.regularizers.l2(0.01)\n",
    "#               )\n",
    "#         )\n",
    "model.add(Dense(total_words, activation='softmax'))\n",
    "# Pick an optimizer\n",
    "model.compile(loss='categorical_crossentropy', optimizer=Adam(lr=0.01), metrics=['accuracy'])\n",
    "print(model.summary())\n"
   ]
  },
  {
   "cell_type": "code",
   "execution_count": 5,
   "metadata": {
    "id": "AIg2f1HBxqof"
   },
   "outputs": [
    {
     "name": "stdout",
     "output_type": "stream",
     "text": [
      "Train on 15462 samples\n",
      "Epoch 1/100\n",
      "15462/15462 [==============================] - 21s 1ms/sample - loss: 7.2150 - accuracy: 0.0206\n",
      "Epoch 2/100\n",
      "15462/15462 [==============================] - 17s 1ms/sample - loss: 7.7175 - accuracy: 0.0233s - loss: 7.702\n",
      "Epoch 3/100\n",
      "15462/15462 [==============================] - 15s 1ms/sample - loss: 8.3469 - accuracy: 0.0181\n",
      "Epoch 4/100\n",
      "15462/15462 [==============================] - 18s 1ms/sample - loss: 8.1373 - accuracy: 0.0213s - loss: 8.1458 \n",
      "Epoch 5/100\n",
      "15462/15462 [==============================] - 27s 2ms/sample - loss: 7.6379 - accuracy: 0.0257\n",
      "Epoch 6/100\n",
      "15462/15462 [==============================] - 23s 1ms/sample - loss: 7.7160 - accuracy: 0.0254\n",
      "Epoch 7/100\n",
      "15462/15462 [==============================] - 20s 1ms/sample - loss: 7.8069 - accuracy: 0.0245\n",
      "Epoch 8/100\n",
      "15462/15462 [==============================] - 18s 1ms/sample - loss: 8.0912 - accuracy: 0.0247\n",
      "Epoch 9/100\n",
      "15462/15462 [==============================] - 17s 1ms/sample - loss: 7.8287 - accuracy: 0.0266\n",
      "Epoch 10/100\n",
      "15462/15462 [==============================] - 16s 1ms/sample - loss: 7.5086 - accuracy: 0.0273\n",
      "Epoch 11/100\n",
      "15462/15462 [==============================] - 16s 1ms/sample - loss: 7.3346 - accuracy: 0.0252s - loss: 7\n",
      "Epoch 12/100\n",
      "15462/15462 [==============================] - 16s 1ms/sample - loss: 7.2384 - accuracy: 0.0276 13s - loss: 7.2383 - acc - ETA: 12s - loss: 7.2597 - accuracy:  - ET - ETA: 10s - - ETA: 3s - - ETA - ETA\n",
      "Epoch 13/100\n",
      "15462/15462 [==============================] - 17s 1ms/sample - loss: 7.1841 - accuracy: 0.0267\n",
      "Epoch 14/100\n",
      "15462/15462 [==============================] - 16s 1ms/sample - loss: 7.1599 - accuracy: 0.0265\n",
      "Epoch 15/100\n",
      "15462/15462 [==============================] - 17s 1ms/sample - loss: 7.1380 - accuracy: 0.0288\n",
      "Epoch 16/100\n",
      "15462/15462 [==============================] - 18s 1ms/sample - loss: 7.2073 - accuracy: 0.0276\n",
      "Epoch 17/100\n",
      "15462/15462 [==============================] - 18s 1ms/sample - loss: 7.0840 - accuracy: 0.0261\n",
      "Epoch 18/100\n",
      "15462/15462 [==============================] - 17s 1ms/sample - loss: 7.2159 - accuracy: 0.0270\n",
      "Epoch 19/100\n",
      "15462/15462 [==============================] - 16s 1ms/sample - loss: 7.1346 - accuracy: 0.0302\n",
      "Epoch 20/100\n",
      "15462/15462 [==============================] - 17s 1ms/sample - loss: 7.0053 - accuracy: 0.0276\n",
      "Epoch 21/100\n",
      "15462/15462 [==============================] - 18s 1ms/sample - loss: 6.9791 - accuracy: 0.0273\n",
      "Epoch 22/100\n",
      "15462/15462 [==============================] - 20s 1ms/sample - loss: 6.9660 - accuracy: 0.0282\n",
      "Epoch 23/100\n",
      "15462/15462 [==============================] - 26s 2ms/sample - loss: 6.9514 - accuracy: 0.0288\n",
      "Epoch 24/100\n",
      "15462/15462 [==============================] - 27s 2ms/sample - loss: 6.8999 - accuracy: 0.0318\n",
      "Epoch 25/100\n",
      "15462/15462 [==============================] - 26s 2ms/sample - loss: 6.8659 - accuracy: 0.0314\n",
      "Epoch 26/100\n",
      "15462/15462 [==============================] - 26s 2ms/sample - loss: 6.9018 - accuracy: 0.0308\n",
      "Epoch 27/100\n",
      "15462/15462 [==============================] - 26s 2ms/sample - loss: 6.8114 - accuracy: 0.0310\n",
      "Epoch 28/100\n",
      "15462/15462 [==============================] - 25s 2ms/sample - loss: 6.7614 - accuracy: 0.0307\n",
      "Epoch 29/100\n",
      "15462/15462 [==============================] - ETA: 0s - loss: 6.7492 - accuracy: 0.03 - 26s 2ms/sample - loss: 6.7496 - accuracy: 0.0344\n",
      "Epoch 30/100\n",
      "15462/15462 [==============================] - 26s 2ms/sample - loss: 6.7100 - accuracy: 0.0304\n",
      "Epoch 31/100\n",
      "15462/15462 [==============================] - 29s 2ms/sample - loss: 6.6998 - accuracy: 0.0335\n",
      "Epoch 32/100\n",
      "15462/15462 [==============================] - 25s 2ms/sample - loss: 6.6562 - accuracy: 0.0336\n",
      "Epoch 33/100\n",
      "15462/15462 [==============================] - 23s 1ms/sample - loss: 6.6549 - accuracy: 0.0338\n",
      "Epoch 34/100\n",
      "15462/15462 [==============================] - 21s 1ms/sample - loss: 6.6491 - accuracy: 0.0344\n",
      "Epoch 35/100\n",
      "15462/15462 [==============================] - 19s 1ms/sample - loss: 6.6199 - accuracy: 0.0336\n",
      "Epoch 36/100\n",
      "15462/15462 [==============================] - 17s 1ms/sample - loss: 6.6174 - accuracy: 0.0322\n",
      "Epoch 37/100\n",
      "15462/15462 [==============================] - 16s 1ms/sample - loss: 6.6591 - accuracy: 0.0338\n",
      "Epoch 38/100\n",
      "15462/15462 [==============================] - 15s 1ms/sample - loss: 6.6200 - accuracy: 0.0325\n",
      "Epoch 39/100\n",
      "15462/15462 [==============================] - 15s 957us/sample - loss: 6.6274 - accuracy: 0.0324\n",
      "Epoch 40/100\n",
      "15462/15462 [==============================] - 15s 985us/sample - loss: 6.5861 - accuracy: 0.0321- l\n",
      "Epoch 41/100\n",
      "15462/15462 [==============================] - 16s 1ms/sample - loss: 6.5563 - accuracy: 0.0332\n",
      "Epoch 42/100\n",
      "15462/15462 [==============================] - 18s 1ms/sample - loss: 6.5165 - accuracy: 0.0318\n",
      "Epoch 43/100\n",
      "15462/15462 [==============================] - 19s 1ms/sample - loss: 6.4844 - accuracy: 0.0347\n",
      "Epoch 44/100\n",
      "15462/15462 [==============================] - 18s 1ms/sample - loss: 6.4850 - accuracy: 0.0333\n",
      "Epoch 45/100\n",
      "15462/15462 [==============================] - 17s 1ms/sample - loss: 6.4622 - accuracy: 0.0356\n",
      "Epoch 46/100\n",
      "15462/15462 [==============================] - 16s 1ms/sample - loss: 6.4318 - accuracy: 0.0353\n",
      "Epoch 47/100\n",
      "15462/15462 [==============================] - 16s 1ms/sample - loss: 6.4122 - accuracy: 0.0339\n",
      "Epoch 48/100\n",
      "15462/15462 [==============================] - 16s 1ms/sample - loss: 6.4030 - accuracy: 0.0357\n",
      "Epoch 49/100\n",
      "15462/15462 [==============================] - 16s 1ms/sample - loss: 6.3761 - accuracy: 0.0340\n",
      "Epoch 50/100\n",
      "15462/15462 [==============================] - 16s 1ms/sample - loss: 6.3893 - accuracy: 0.0336s -\n",
      "Epoch 51/100\n",
      "15462/15462 [==============================] - 15s 997us/sample - loss: 6.3695 - accuracy: 0.0349\n",
      "Epoch 52/100\n",
      "15462/15462 [==============================] - 16s 1ms/sample - loss: 6.3577 - accuracy: 0.0330\n",
      "Epoch 53/100\n",
      "15462/15462 [==============================] - 17s 1ms/sample - loss: 6.3428 - accuracy: 0.0325\n",
      "Epoch 54/100\n",
      "15462/15462 [==============================] - 17s 1ms/sample - loss: 6.3460 - accuracy: 0.0335\n",
      "Epoch 55/100\n",
      "15462/15462 [==============================] - 16s 1ms/sample - loss: 6.3330 - accuracy: 0.0354\n",
      "Epoch 56/100\n",
      "15462/15462 [==============================] - 15s 993us/sample - loss: 6.2932 - accuracy: 0.0349\n",
      "Epoch 57/100\n",
      "15462/15462 [==============================] - 15s 958us/sample - loss: 6.2688 - accuracy: 0.0340\n",
      "Epoch 58/100\n",
      "15462/15462 [==============================] - 16s 1ms/sample - loss: 6.2455 - accuracy: 0.0345s - los - ETA: 3s - loss: 6.2 - ETA: 2s - l\n",
      "Epoch 59/100\n",
      "15462/15462 [==============================] - 16s 1ms/sample - loss: 6.2267 - accuracy: 0.0324\n",
      "Epoch 60/100\n",
      "15462/15462 [==============================] - 17s 1ms/sample - loss: 6.1994 - accuracy: 0.0350\n",
      "Epoch 61/100\n",
      "15462/15462 [==============================] - 17s 1ms/sample - loss: 6.1771 - accuracy: 0.0322\n",
      "Epoch 62/100\n",
      "15462/15462 [==============================] - 16s 1ms/sample - loss: 6.1920 - accuracy: 0.0338\n",
      "Epoch 63/100\n",
      "15462/15462 [==============================] - 15s 987us/sample - loss: 6.1727 - accuracy: 0.0336\n",
      "Epoch 64/100\n",
      "15462/15462 [==============================] - 16s 1ms/sample - loss: 6.1416 - accuracy: 0.0341\n",
      "Epoch 65/100\n",
      "15462/15462 [==============================] - 16s 1ms/sample - loss: 6.1519 - accuracy: 0.0331\n",
      "Epoch 66/100\n",
      "15462/15462 [==============================] - 16s 1ms/sample - loss: 6.1332 - accuracy: 0.0347\n",
      "Epoch 67/100\n",
      "15462/15462 [==============================] - 16s 1ms/sample - loss: 6.1518 - accuracy: 0.0358\n",
      "Epoch 68/100\n",
      "15462/15462 [==============================] - 17s 1ms/sample - loss: 6.1167 - accuracy: 0.0368\n",
      "Epoch 69/100\n",
      "15462/15462 [==============================] - 16s 1ms/sample - loss: 6.1154 - accuracy: 0.0342\n",
      "Epoch 70/100\n",
      "15462/15462 [==============================] - 16s 1ms/sample - loss: 6.0928 - accuracy: 0.0332s - loss:\n",
      "Epoch 71/100\n",
      "15462/15462 [==============================] - 16s 1ms/sample - loss: 6.0441 - accuracy: 0.0356\n",
      "Epoch 72/100\n",
      "15462/15462 [==============================] - 16s 1ms/sample - loss: 6.0592 - accuracy: 0.0357\n",
      "Epoch 73/100\n"
     ]
    },
    {
     "name": "stdout",
     "output_type": "stream",
     "text": [
      "15462/15462 [==============================] - 16s 1ms/sample - loss: 6.0631 - accuracy: 0.0356\n",
      "Epoch 74/100\n",
      "15462/15462 [==============================] - 16s 1ms/sample - loss: 6.0225 - accuracy: 0.0371\n",
      "Epoch 75/100\n",
      "15462/15462 [==============================] - 16s 1ms/sample - loss: 6.0389 - accuracy: 0.0357\n",
      "Epoch 76/100\n",
      "15462/15462 [==============================] - 17s 1ms/sample - loss: 6.0229 - accuracy: 0.0369\n",
      "Epoch 77/100\n",
      "15462/15462 [==============================] - 17s 1ms/sample - loss: 6.0157 - accuracy: 0.0332\n",
      "Epoch 78/100\n",
      "15462/15462 [==============================] - 16s 1ms/sample - loss: 6.0208 - accuracy: 0.0369\n",
      "Epoch 79/100\n",
      "15462/15462 [==============================] - 15s 992us/sample - loss: 6.0289 - accuracy: 0.0341\n",
      "Epoch 80/100\n",
      "15462/15462 [==============================] - 15s 973us/sample - loss: 6.0017 - accuracy: 0.0373\n",
      "Epoch 81/100\n",
      "15462/15462 [==============================] - 15s 939us/sample - loss: 5.9952 - accuracy: 0.0378\n",
      "Epoch 82/100\n",
      "15462/15462 [==============================] - 15s 960us/sample - loss: 6.0312 - accuracy: 0.0363\n",
      "Epoch 83/100\n",
      "15462/15462 [==============================] - 15s 983us/sample - loss: 6.0319 - accuracy: 0.0364\n",
      "Epoch 84/100\n",
      "15462/15462 [==============================] - 16s 1ms/sample - loss: 6.0113 - accuracy: 0.0388\n",
      "Epoch 85/100\n",
      "15462/15462 [==============================] - ETA: 0s - loss: 6.0128 - accuracy: 0.03 - 15s 999us/sample - loss: 6.0111 - accuracy: 0.0349\n",
      "Epoch 86/100\n",
      "15462/15462 [==============================] - 15s 995us/sample - loss: 5.9781 - accuracy: 0.0367\n",
      "Epoch 87/100\n",
      "15462/15462 [==============================] - 17s 1ms/sample - loss: 6.0072 - accuracy: 0.0392\n",
      "Epoch 88/100\n",
      "15462/15462 [==============================] - 17s 1ms/sample - loss: 5.9653 - accuracy: 0.0378\n",
      "Epoch 89/100\n",
      "15462/15462 [==============================] - 15s 1ms/sample - loss: 5.9448 - accuracy: 0.0371\n",
      "Epoch 90/100\n",
      "15462/15462 [==============================] - 16s 1ms/sample - loss: 5.9653 - accuracy: 0.0364\n",
      "Epoch 91/100\n",
      "15462/15462 [==============================] - 15s 985us/sample - loss: 5.9890 - accuracy: 0.0356\n",
      "Epoch 92/100\n",
      "15462/15462 [==============================] - 15s 985us/sample - loss: 5.9694 - accuracy: 0.0378\n",
      "Epoch 93/100\n",
      "15462/15462 [==============================] - 16s 1ms/sample - loss: 5.9788 - accuracy: 0.0365\n",
      "Epoch 94/100\n",
      "15462/15462 [==============================] - 16s 1ms/sample - loss: 5.9878 - accuracy: 0.0383\n",
      "Epoch 95/100\n",
      "15462/15462 [==============================] - 17s 1ms/sample - loss: 5.9730 - accuracy: 0.0373\n",
      "Epoch 96/100\n",
      "15462/15462 [==============================] - 17s 1ms/sample - loss: 5.9644 - accuracy: 0.0388\n",
      "Epoch 97/100\n",
      "15462/15462 [==============================] - 16s 1ms/sample - loss: 5.9201 - accuracy: 0.0360\n",
      "Epoch 98/100\n",
      "15462/15462 [==============================] - 16s 1ms/sample - loss: 5.9110 - accuracy: 0.0385s - loss: 5.9011 - accuracy: 0. - ETA: 0s - loss:\n",
      "Epoch 99/100\n",
      "15462/15462 [==============================] - 15s 976us/sample - loss: 5.9056 - accuracy: 0.0395- loss: 5.901\n",
      "Epoch 100/100\n",
      "15462/15462 [==============================] - 15s 997us/sample - loss: 5.9174 - accuracy: 0.0402\n"
     ]
    }
   ],
   "source": [
    " history = model.fit(predictors, label, epochs=100, verbose=1)"
   ]
  },
  {
   "cell_type": "code",
   "execution_count": 6,
   "metadata": {
    "id": "1fXTEO3GJ282"
   },
   "outputs": [
    {
     "data": {
      "image/png": "[encoded data removed]",
      "text/plain": [
       "<Figure size 432x288 with 1 Axes>"
      ]
     },
     "metadata": {
      "needs_background": "light"
     },
     "output_type": "display_data"
    },
    {
     "data": {
      "image/png": "[encoded data removed]",
      "text/plain": [
       "<Figure size 432x288 with 1 Axes>"
      ]
     },
     "metadata": {
      "needs_background": "light"
     },
     "output_type": "display_data"
    }
   ],
   "source": [
    "import matplotlib.pyplot as plt\n",
    "acc = history.history['accuracy']\n",
    "loss = history.history['loss']\n",
    "\n",
    "epochs = range(len(acc))\n",
    "\n",
    "plt.plot(epochs, acc, 'b', label='Training accuracy')\n",
    "plt.title('Training accuracy')\n",
    "\n",
    "plt.figure()\n",
    "\n",
    "plt.plot(epochs, loss, 'b', label='Training Loss')\n",
    "plt.title('Training loss')\n",
    "plt.legend()\n",
    "\n",
    "plt.show()"
   ]
  },
  {
   "cell_type": "code",
   "execution_count": 7,
   "metadata": {
    "id": "6Vc6PHgxa6Hm"
   },
   "outputs": [
    {
     "name": "stdout",
     "output_type": "stream",
     "text": [
      "Help me Obi Wan Kenobi, you're my only hope to pardon in thee end thee thee thee thee thee thee thee thee thee thee thee thee thee thee thee thee thee thee thee thee thee thee thee thee thee thee thee thee thee thee thee thee thee thee thee thee thee thee thee thee thee thee thee thee thee thee thee thee thee thee thee thee thee thee thee thee thee thee thee thee thee thee thee thee thee thee thee thee thee thee thee thee thee thee thee thee thee thee thee thee thee thee thee thee thee thee thee thee thee thee thee thee thee thee thee\n"
     ]
    }
   ],
   "source": [
    "seed_text = \"Help me Obi Wan Kenobi, you're my only hope\"\n",
    "next_words = 100\n",
    "  \n",
    "for _ in range(next_words):\n",
    "    token_list = tokenizer.texts_to_sequences([seed_text])[0]\n",
    "    token_list = pad_sequences([token_list], maxlen=max_sequence_len-1, padding='pre')\n",
    "    predicted = model.predict_classes(token_list, verbose=0)\n",
    "    output_word = \"\"\n",
    "    for word, index in tokenizer.word_index.items():\n",
    "        if index == predicted:\n",
    "            output_word = word\n",
    "            break\n",
    "    seed_text += \" \" + output_word\n",
    "print(seed_text)"
   ]
  },
  {
   "cell_type": "code",
   "execution_count": null,
   "metadata": {},
   "outputs": [],
   "source": []
  }
 ],
 "metadata": {
  "accelerator": "GPU",
  "colab": {
   "name": "NLP_Week4_Exercise_Shakespeare_Question.ipynb",
   "provenance": [],
   "toc_visible": true
  },
  "kernelspec": {
   "display_name": "Python 3",
   "language": "python",
   "name": "python3"
  },
  "language_info": {
   "codemirror_mode": {
    "name": "ipython",
    "version": 3
   },
   "file_extension": ".py",
   "mimetype": "text/x-python",
   "name": "python",
   "nbconvert_exporter": "python",
   "pygments_lexer": "ipython3",
   "version": "3.6.10"
  }
 },
 "nbformat": 4,
 "nbformat_minor": 1
}
