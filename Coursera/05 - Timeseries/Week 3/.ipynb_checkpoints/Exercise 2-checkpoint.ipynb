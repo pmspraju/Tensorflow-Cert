{
 "cells": [
  {
   "cell_type": "code",
   "execution_count": 1,
   "metadata": {
    "id": "zX4Kg8DUTKWO"
   },
   "outputs": [],
   "source": [
    "#@title Licensed under the Apache License, Version 2.0 (the \"License\");\n",
    "# you may not use this file except in compliance with the License.\n",
    "# You may obtain a copy of the License at\n",
    "#\n",
    "# https://www.apache.org/licenses/LICENSE-2.0\n",
    "#\n",
    "# Unless required by applicable law or agreed to in writing, software\n",
    "# distributed under the License is distributed on an \"AS IS\" BASIS,\n",
    "# WITHOUT WARRANTIES OR CONDITIONS OF ANY KIND, either express or implied.\n",
    "# See the License for the specific language governing permissions and\n",
    "# limitations under the License."
   ]
  },
  {
   "cell_type": "code",
   "execution_count": 2,
   "metadata": {
    "id": "D1J15Vh_1Jih"
   },
   "outputs": [],
   "source": [
    "#!pip install tf-nightly-2.0-preview\n"
   ]
  },
  {
   "cell_type": "code",
   "execution_count": 3,
   "metadata": {
    "colab": {
     "base_uri": "https://localhost:8080/",
     "height": 35
    },
    "id": "BOjujz601HcS",
    "outputId": "aa0651c4-b24e-4e1e-936c-e31004fa751b"
   },
   "outputs": [
    {
     "name": "stdout",
     "output_type": "stream",
     "text": [
      "2.1.0\n"
     ]
    }
   ],
   "source": [
    "import tensorflow as tf\n",
    "import numpy as np\n",
    "import matplotlib.pyplot as plt\n",
    "print(tf.__version__)"
   ]
  },
  {
   "cell_type": "code",
   "execution_count": 4,
   "metadata": {
    "id": "Zswl7jRtGzkk"
   },
   "outputs": [],
   "source": [
    "def plot_series(time, series, format=\"-\", start=0, end=None):\n",
    "    plt.plot(time[start:end], series[start:end], format)\n",
    "    plt.xlabel(\"Time\")\n",
    "    plt.ylabel(\"Value\")\n",
    "    plt.grid(True)\n",
    "\n",
    "def trend(time, slope=0):\n",
    "    return slope * time\n",
    "\n",
    "def seasonal_pattern(season_time):\n",
    "    \"\"\"Just an arbitrary pattern, you can change it if you wish\"\"\"\n",
    "    return np.where(season_time < 0.4,\n",
    "                    np.cos(season_time * 2 * np.pi),\n",
    "                    1 / np.exp(3 * season_time))\n",
    "\n",
    "def seasonality(time, period, amplitude=1, phase=0):\n",
    "    \"\"\"Repeats the same pattern at each period\"\"\"\n",
    "    season_time = ((time + phase) % period) / period\n",
    "    return amplitude * seasonal_pattern(season_time)\n",
    "\n",
    "def noise(time, noise_level=1, seed=None):\n",
    "    rnd = np.random.RandomState(seed)\n",
    "    return rnd.randn(len(time)) * noise_level\n",
    "\n",
    "time = np.arange(4 * 365 + 1, dtype=\"float32\")\n",
    "baseline = 10\n",
    "series = trend(time, 0.1)  \n",
    "baseline = 10\n",
    "amplitude = 40\n",
    "slope = 0.05\n",
    "noise_level = 5\n",
    "\n",
    "# Create the series\n",
    "series = baseline + trend(time, slope) + seasonality(time, period=365, amplitude=amplitude)\n",
    "# Update with noise\n",
    "series += noise(time, noise_level, seed=42)\n",
    "\n",
    "split_time = 1000\n",
    "time_train = time[:split_time]\n",
    "x_train = series[:split_time]\n",
    "time_valid = time[split_time:]\n",
    "x_valid = series[split_time:]\n",
    "\n",
    "window_size = 20\n",
    "batch_size = 32\n",
    "shuffle_buffer_size = 1000"
   ]
  },
  {
   "cell_type": "code",
   "execution_count": 5,
   "metadata": {
    "id": "4sTTIOCbyShY"
   },
   "outputs": [],
   "source": [
    "def windowed_dataset(series, window_size, batch_size, shuffle_buffer):\n",
    "  dataset = tf.data.Dataset.from_tensor_slices(series)\n",
    "  dataset = dataset.window(window_size + 1, shift=1, drop_remainder=True)\n",
    "  dataset = dataset.flat_map(lambda window: window.batch(window_size + 1))\n",
    "  dataset = dataset.shuffle(shuffle_buffer).map(lambda window: (window[:-1], window[-1]))\n",
    "  dataset = dataset.batch(batch_size).prefetch(1)\n",
    "  return dataset"
   ]
  },
  {
   "cell_type": "code",
   "execution_count": 6,
   "metadata": {
    "colab": {
     "base_uri": "https://localhost:8080/",
     "height": 1000
    },
    "id": "A1Hl39rklkLm",
    "outputId": "75cbaf63-f635-4dd1-96fd-b4e1d6fd94bb"
   },
   "outputs": [
    {
     "name": "stdout",
     "output_type": "stream",
     "text": [
      "Epoch 1/100\n",
      "31/31 [==============================] - 4s 142ms/step - loss: 21.4956 - mae: 22.0115\n",
      "Epoch 2/100\n",
      "31/31 [==============================] - 0s 15ms/step - loss: 21.1128 - mae: 21.6440\n",
      "Epoch 3/100\n",
      "31/31 [==============================] - 0s 15ms/step - loss: 20.7468 - mae: 21.2278\n",
      "Epoch 4/100\n",
      "31/31 [==============================] - 0s 15ms/step - loss: 20.3564 - mae: 20.7739\n",
      "Epoch 5/100\n",
      "31/31 [==============================] - 0s 15ms/step - loss: 19.7907 - mae: 20.2843\n",
      "Epoch 6/100\n",
      "31/31 [==============================] - 0s 15ms/step - loss: 19.1428 - mae: 19.6776\n",
      "Epoch 7/100\n",
      "31/31 [==============================] - 0s 15ms/step - loss: 18.2205 - mae: 18.7308\n",
      "Epoch 8/100\n",
      "31/31 [==============================] - 0s 15ms/step - loss: 17.5280 - mae: 17.9757\n",
      "Epoch 9/100\n",
      "31/31 [==============================] - 0s 15ms/step - loss: 17.1315 - mae: 17.6581\n",
      "Epoch 10/100\n",
      "31/31 [==============================] - 0s 15ms/step - loss: 16.8294 - mae: 17.3457\n",
      "Epoch 11/100\n",
      "31/31 [==============================] - 0s 15ms/step - loss: 16.5175 - mae: 17.0459\n",
      "Epoch 12/100\n",
      "31/31 [==============================] - 0s 14ms/step - loss: 16.2835 - mae: 16.7529\n",
      "Epoch 13/100\n",
      "31/31 [==============================] - 0s 14ms/step - loss: 15.9576 - mae: 16.4573\n",
      "Epoch 14/100\n",
      "31/31 [==============================] - 0s 15ms/step - loss: 15.6444 - mae: 16.1587\n",
      "Epoch 15/100\n",
      "31/31 [==============================] - 0s 14ms/step - loss: 15.3548 - mae: 15.8571\n",
      "Epoch 16/100\n",
      "31/31 [==============================] - 0s 14ms/step - loss: 15.0615 - mae: 15.5765\n",
      "Epoch 17/100\n",
      "31/31 [==============================] - 0s 14ms/step - loss: 14.8060 - mae: 15.2950\n",
      "Epoch 18/100\n",
      "31/31 [==============================] - 0s 14ms/step - loss: 14.5474 - mae: 15.0164\n",
      "Epoch 19/100\n",
      "31/31 [==============================] - 0s 14ms/step - loss: 14.2308 - mae: 14.7612\n",
      "Epoch 20/100\n",
      "31/31 [==============================] - 0s 15ms/step - loss: 14.0179 - mae: 14.5354\n",
      "Epoch 21/100\n",
      "31/31 [==============================] - 0s 15ms/step - loss: 13.8130 - mae: 14.3081\n",
      "Epoch 22/100\n",
      "31/31 [==============================] - 0s 14ms/step - loss: 13.5935 - mae: 14.1062\n",
      "Epoch 23/100\n",
      "31/31 [==============================] - 0s 15ms/step - loss: 13.3985 - mae: 13.8858\n",
      "Epoch 24/100\n",
      "31/31 [==============================] - 0s 15ms/step - loss: 13.2187 - mae: 13.7037\n",
      "Epoch 25/100\n",
      "31/31 [==============================] - 0s 14ms/step - loss: 12.9267 - mae: 13.4526\n",
      "Epoch 26/100\n",
      "31/31 [==============================] - 0s 14ms/step - loss: 12.7290 - mae: 13.2327\n",
      "Epoch 27/100\n",
      "31/31 [==============================] - 0s 15ms/step - loss: 12.4543 - mae: 12.9716\n",
      "Epoch 28/100\n",
      "31/31 [==============================] - 0s 15ms/step - loss: 12.2231 - mae: 12.7095\n",
      "Epoch 29/100\n",
      "31/31 [==============================] - 0s 15ms/step - loss: 12.3309 - mae: 12.8460\n",
      "Epoch 30/100\n",
      "31/31 [==============================] - 0s 15ms/step - loss: 11.8069 - mae: 12.3121\n",
      "Epoch 31/100\n",
      "31/31 [==============================] - 0s 15ms/step - loss: 11.3216 - mae: 11.8148\n",
      "Epoch 32/100\n",
      "31/31 [==============================] - 0s 15ms/step - loss: 11.0173 - mae: 11.4831\n",
      "Epoch 33/100\n",
      "31/31 [==============================] - 0s 14ms/step - loss: 10.6577 - mae: 11.1361\n",
      "Epoch 34/100\n",
      "31/31 [==============================] - 0s 15ms/step - loss: 10.8241 - mae: 11.3007\n",
      "Epoch 35/100\n",
      "31/31 [==============================] - 0s 14ms/step - loss: 10.9697 - mae: 11.4606\n",
      "Epoch 36/100\n",
      "31/31 [==============================] - 0s 14ms/step - loss: 10.4872 - mae: 10.9636\n",
      "Epoch 37/100\n",
      "31/31 [==============================] - 0s 15ms/step - loss: 10.0051 - mae: 10.4892\n",
      "Epoch 38/100\n",
      "31/31 [==============================] - 0s 14ms/step - loss: 9.5181 - mae: 10.0283\n",
      "Epoch 39/100\n",
      "31/31 [==============================] - 0s 14ms/step - loss: 9.0591 - mae: 9.5461\n",
      "Epoch 40/100\n",
      "31/31 [==============================] - 0s 14ms/step - loss: 8.6498 - mae: 9.1358\n",
      "Epoch 41/100\n",
      "31/31 [==============================] - 0s 14ms/step - loss: 8.2329 - mae: 8.7356\n",
      "Epoch 42/100\n",
      "31/31 [==============================] - 0s 16ms/step - loss: 7.9299 - mae: 8.4081\n",
      "Epoch 43/100\n",
      "31/31 [==============================] - 0s 16ms/step - loss: 7.6007 - mae: 8.1137\n",
      "Epoch 44/100\n",
      "31/31 [==============================] - 0s 15ms/step - loss: 7.3032 - mae: 7.8033\n",
      "Epoch 45/100\n",
      "31/31 [==============================] - 0s 15ms/step - loss: 7.0877 - mae: 7.5770\n",
      "Epoch 46/100\n",
      "31/31 [==============================] - 0s 15ms/step - loss: 6.8843 - mae: 7.3933\n",
      "Epoch 47/100\n",
      "31/31 [==============================] - 0s 15ms/step - loss: 6.6226 - mae: 7.0771\n",
      "Epoch 48/100\n",
      "31/31 [==============================] - 0s 14ms/step - loss: 6.4349 - mae: 6.9074\n",
      "Epoch 49/100\n",
      "31/31 [==============================] - 0s 14ms/step - loss: 6.3954 - mae: 6.8757\n",
      "Epoch 50/100\n",
      "31/31 [==============================] - 0s 14ms/step - loss: 6.0277 - mae: 6.5164\n",
      "Epoch 51/100\n",
      "31/31 [==============================] - 0s 14ms/step - loss: 5.8894 - mae: 6.3634\n",
      "Epoch 52/100\n",
      "31/31 [==============================] - 0s 14ms/step - loss: 5.7521 - mae: 6.2421\n",
      "Epoch 53/100\n",
      "31/31 [==============================] - 0s 15ms/step - loss: 5.6553 - mae: 6.1419\n",
      "Epoch 54/100\n",
      "31/31 [==============================] - 0s 15ms/step - loss: 5.4473 - mae: 5.9468\n",
      "Epoch 55/100\n",
      "31/31 [==============================] - 0s 14ms/step - loss: 5.4122 - mae: 5.9006\n",
      "Epoch 56/100\n",
      "31/31 [==============================] - 0s 15ms/step - loss: 5.2623 - mae: 5.7471\n",
      "Epoch 57/100\n",
      "31/31 [==============================] - 0s 14ms/step - loss: 5.3106 - mae: 5.7881\n",
      "Epoch 58/100\n",
      "31/31 [==============================] - 0s 14ms/step - loss: 5.1929 - mae: 5.6591\n",
      "Epoch 59/100\n",
      "31/31 [==============================] - 0s 14ms/step - loss: 5.2541 - mae: 5.7545\n",
      "Epoch 60/100\n",
      "31/31 [==============================] - 0s 14ms/step - loss: 5.1063 - mae: 5.5567\n",
      "Epoch 61/100\n",
      "31/31 [==============================] - 0s 14ms/step - loss: 4.9472 - mae: 5.4250\n",
      "Epoch 62/100\n",
      "31/31 [==============================] - 0s 15ms/step - loss: 5.0917 - mae: 5.5808\n",
      "Epoch 63/100\n",
      "31/31 [==============================] - 0s 15ms/step - loss: 5.1680 - mae: 5.6630\n",
      "Epoch 64/100\n",
      "31/31 [==============================] - 0s 14ms/step - loss: 5.0575 - mae: 5.5312\n",
      "Epoch 65/100\n",
      "31/31 [==============================] - 0s 16ms/step - loss: 4.9006 - mae: 5.3900\n",
      "Epoch 66/100\n",
      "31/31 [==============================] - 0s 15ms/step - loss: 5.2745 - mae: 5.7637\n",
      "Epoch 67/100\n",
      "31/31 [==============================] - 0s 14ms/step - loss: 5.2607 - mae: 5.7446\n",
      "Epoch 68/100\n",
      "31/31 [==============================] - 0s 15ms/step - loss: 5.2220 - mae: 5.7234\n",
      "Epoch 69/100\n",
      "31/31 [==============================] - 0s 14ms/step - loss: 5.3456 - mae: 5.8346\n",
      "Epoch 70/100\n",
      "31/31 [==============================] - 0s 14ms/step - loss: 6.1695 - mae: 6.6386\n",
      "Epoch 71/100\n",
      "31/31 [==============================] - 0s 15ms/step - loss: 4.9525 - mae: 5.4136\n",
      "Epoch 72/100\n",
      "31/31 [==============================] - 0s 14ms/step - loss: 5.5660 - mae: 6.0636\n",
      "Epoch 73/100\n",
      "31/31 [==============================] - 0s 15ms/step - loss: 5.3435 - mae: 5.8208\n",
      "Epoch 74/100\n",
      "31/31 [==============================] - 1s 17ms/step - loss: 6.7292 - mae: 7.1963\n",
      "Epoch 75/100\n",
      "31/31 [==============================] - 1s 18ms/step - loss: 5.6988 - mae: 6.1762\n",
      "Epoch 76/100\n",
      "31/31 [==============================] - 1s 18ms/step - loss: 5.2829 - mae: 5.7813\n",
      "Epoch 77/100\n",
      "31/31 [==============================] - 1s 18ms/step - loss: 6.1560 - mae: 6.6351\n",
      "Epoch 78/100\n",
      "31/31 [==============================] - 1s 17ms/step - loss: 6.0241 - mae: 6.5306\n",
      "Epoch 79/100\n",
      "31/31 [==============================] - 1s 16ms/step - loss: 6.0873 - mae: 6.5426\n",
      "Epoch 80/100\n",
      "31/31 [==============================] - 1s 17ms/step - loss: 5.6280 - mae: 6.0981\n",
      "Epoch 81/100\n",
      "31/31 [==============================] - 1s 19ms/step - loss: 5.2666 - mae: 5.7557\n",
      "Epoch 82/100\n",
      "31/31 [==============================] - 1s 17ms/step - loss: 6.6441 - mae: 7.1371\n",
      "Epoch 83/100\n",
      "31/31 [==============================] - 1s 17ms/step - loss: 6.4056 - mae: 6.8849\n",
      "Epoch 84/100\n",
      "31/31 [==============================] - 1s 17ms/step - loss: 6.4040 - mae: 6.8719\n",
      "Epoch 85/100\n"
     ]
    },
    {
     "name": "stdout",
     "output_type": "stream",
     "text": [
      "31/31 [==============================] - 1s 17ms/step - loss: 6.9998 - mae: 7.4986\n",
      "Epoch 86/100\n",
      "31/31 [==============================] - 1s 17ms/step - loss: 5.3235 - mae: 5.8367\n",
      "Epoch 87/100\n",
      "31/31 [==============================] - 1s 18ms/step - loss: 6.8069 - mae: 7.2975\n",
      "Epoch 88/100\n",
      "31/31 [==============================] - 1s 20ms/step - loss: 5.4696 - mae: 5.9367\n",
      "Epoch 89/100\n",
      "31/31 [==============================] - 1s 20ms/step - loss: 6.4642 - mae: 6.9423\n",
      "Epoch 90/100\n",
      "31/31 [==============================] - 1s 18ms/step - loss: 5.8448 - mae: 6.3292\n",
      "Epoch 91/100\n",
      "31/31 [==============================] - 1s 18ms/step - loss: 11.3366 - mae: 11.8615\n",
      "Epoch 92/100\n",
      "31/31 [==============================] - 1s 20ms/step - loss: 9.1238 - mae: 9.6157\n",
      "Epoch 93/100\n",
      "31/31 [==============================] - 1s 21ms/step - loss: 8.9497 - mae: 9.3858\n",
      "Epoch 94/100\n",
      "31/31 [==============================] - 1s 18ms/step - loss: 9.1953 - mae: 9.7103\n",
      "Epoch 95/100\n",
      "31/31 [==============================] - 1s 17ms/step - loss: 11.9238 - mae: 12.4017\n",
      "Epoch 96/100\n",
      "31/31 [==============================] - 1s 18ms/step - loss: 10.4326 - mae: 10.8982\n",
      "Epoch 97/100\n",
      "31/31 [==============================] - 1s 17ms/step - loss: 11.2542 - mae: 11.6712\n",
      "Epoch 98/100\n",
      "31/31 [==============================] - 1s 17ms/step - loss: 13.7737 - mae: 14.3291\n",
      "Epoch 99/100\n",
      "31/31 [==============================] - 1s 17ms/step - loss: 11.6661 - mae: 12.1696\n",
      "Epoch 100/100\n",
      "31/31 [==============================] - 1s 17ms/step - loss: 14.8864 - mae: 15.4579\n"
     ]
    }
   ],
   "source": [
    "tf.keras.backend.clear_session()\n",
    "tf.random.set_seed(51)\n",
    "np.random.seed(51)\n",
    "\n",
    "tf.keras.backend.clear_session()\n",
    "dataset = windowed_dataset(x_train, window_size, batch_size, shuffle_buffer_size)\n",
    "\n",
    "model = tf.keras.models.Sequential([\n",
    "  tf.keras.layers.Lambda(lambda x: tf.expand_dims(x, axis=-1),\n",
    "                      input_shape=[None]),\n",
    "    tf.keras.layers.Bidirectional(tf.keras.layers.LSTM(32, return_sequences=True)),\n",
    "  tf.keras.layers.Bidirectional(tf.keras.layers.LSTM(32)),\n",
    "  tf.keras.layers.Dense(1),\n",
    "  tf.keras.layers.Lambda(lambda x: x * 100.0)\n",
    "])\n",
    "\n",
    "lr_schedule = tf.keras.callbacks.LearningRateScheduler(\n",
    "    lambda epoch: 1e-8 * 10**(epoch / 20))\n",
    "optimizer = tf.keras.optimizers.SGD(lr=1e-8, momentum=0.9)\n",
    "model.compile(loss=tf.keras.losses.Huber(),\n",
    "              optimizer=optimizer,\n",
    "              metrics=[\"mae\"])\n",
    "history = model.fit(dataset, epochs=100, callbacks=[lr_schedule])"
   ]
  },
  {
   "cell_type": "code",
   "execution_count": 7,
   "metadata": {
    "colab": {
     "base_uri": "https://localhost:8080/",
     "height": 291
    },
    "id": "AkBsrsXMzoWR",
    "outputId": "99a3f57b-9145-4802-8256-401a54b238e7"
   },
   "outputs": [
    {
     "data": {
      "text/plain": [
       "[1e-08, 0.0001, 0, 30]"
      ]
     },
     "execution_count": 7,
     "metadata": {},
     "output_type": "execute_result"
    },
    {
     "data": {
      "image/png": "[encoded data removed]",
      "text/plain": [
       "<Figure size 432x288 with 1 Axes>"
      ]
     },
     "metadata": {
      "needs_background": "light"
     },
     "output_type": "display_data"
    }
   ],
   "source": [
    "plt.semilogx(history.history[\"lr\"], history.history[\"loss\"])\n",
    "plt.axis([1e-8, 1e-4, 0, 30])"
   ]
  },
  {
   "cell_type": "code",
   "execution_count": 10,
   "metadata": {
    "id": "4uh-97bpLZCA"
   },
   "outputs": [],
   "source": [
    "tf.keras.backend.clear_session()\n",
    "tf.random.set_seed(51)\n",
    "np.random.seed(51)\n",
    "\n",
    "tf.keras.backend.clear_session()\n",
    "dataset = windowed_dataset(x_train, window_size, batch_size, shuffle_buffer_size)\n",
    "\n",
    "model = tf.keras.models.Sequential([\n",
    "  tf.keras.layers.Lambda(lambda x: tf.expand_dims(x, axis=-1),\n",
    "                      input_shape=[None]),\n",
    "   tf.keras.layers.Bidirectional(tf.keras.layers.LSTM(32, return_sequences=True)),\n",
    "  tf.keras.layers.Bidirectional(tf.keras.layers.LSTM(32)),\n",
    "  tf.keras.layers.Dense(1),\n",
    "  tf.keras.layers.Lambda(lambda x: x * 100.0)\n",
    "])\n",
    "\n",
    "\n",
    "model.compile(loss=\"mse\", optimizer=tf.keras.optimizers.SGD(lr=1e-5, momentum=0.9),metrics=[\"mae\"])\n",
    "history = model.fit(dataset,epochs=5,verbose=0)"
   ]
  },
  {
   "cell_type": "code",
   "execution_count": 11,
   "metadata": {
    "colab": {
     "base_uri": "https://localhost:8080/",
     "height": 393
    },
    "id": "icGDaND7z0ne",
    "outputId": "58b69d1a-82d2-457b-9342-42ceb24b35da"
   },
   "outputs": [
    {
     "data": {
      "image/png": "[encoded data removed]",
      "text/plain": [
       "<Figure size 720x432 with 1 Axes>"
      ]
     },
     "metadata": {
      "needs_background": "light"
     },
     "output_type": "display_data"
    }
   ],
   "source": [
    "forecast = []\n",
    "results = []\n",
    "for time in range(len(series) - window_size):\n",
    "  forecast.append(model.predict(series[time:time + window_size][np.newaxis]))\n",
    "\n",
    "forecast = forecast[split_time-window_size:]\n",
    "results = np.array(forecast)[:, 0, 0]\n",
    "\n",
    "\n",
    "plt.figure(figsize=(10, 6))\n",
    "\n",
    "plot_series(time_valid, x_valid)\n",
    "plot_series(time_valid, results)"
   ]
  },
  {
   "cell_type": "code",
   "execution_count": 12,
   "metadata": {
    "colab": {
     "base_uri": "https://localhost:8080/",
     "height": 35
    },
    "id": "KfPeqI7rz4LD",
    "outputId": "816335be-fd2a-428f-98d6-05983b84d9b5"
   },
   "outputs": [
    {
     "data": {
      "text/plain": [
       "10.6992655"
      ]
     },
     "execution_count": 12,
     "metadata": {},
     "output_type": "execute_result"
    }
   ],
   "source": [
    "tf.keras.metrics.mean_absolute_error(x_valid, results).numpy()"
   ]
  },
  {
   "cell_type": "code",
   "execution_count": 13,
   "metadata": {
    "colab": {
     "base_uri": "https://localhost:8080/",
     "height": 235
    },
    "id": "JUsdZB_tzDLe",
    "outputId": "964c47d9-7eec-42cd-905f-c45c2fd31d9e"
   },
   "outputs": [
    {
     "data": {
      "text/plain": [
       "<Figure size 432x288 with 0 Axes>"
      ]
     },
     "execution_count": 13,
     "metadata": {},
     "output_type": "execute_result"
    },
    {
     "data": {
      "image/png": "[encoded data removed]",
      "text/plain": [
       "<Figure size 432x288 with 1 Axes>"
      ]
     },
     "metadata": {
      "needs_background": "light"
     },
     "output_type": "display_data"
    },
    {
     "data": {
      "image/png": "[encoded data removed]",
      "text/plain": [
       "<Figure size 432x288 with 1 Axes>"
      ]
     },
     "metadata": {
      "needs_background": "light"
     },
     "output_type": "display_data"
    },
    {
     "data": {
      "text/plain": [
       "<Figure size 432x288 with 0 Axes>"
      ]
     },
     "metadata": {},
     "output_type": "display_data"
    }
   ],
   "source": [
    "import matplotlib.image  as mpimg\n",
    "import matplotlib.pyplot as plt\n",
    "\n",
    "#-----------------------------------------------------------\n",
    "# Retrieve a list of list results on training and test data\n",
    "# sets for each training epoch\n",
    "#-----------------------------------------------------------\n",
    "mae=history.history['mae']\n",
    "loss=history.history['loss']\n",
    "\n",
    "epochs=range(len(loss)) # Get number of epochs\n",
    "\n",
    "#------------------------------------------------\n",
    "# Plot MAE and Loss\n",
    "#------------------------------------------------\n",
    "plt.plot(epochs, mae, 'r')\n",
    "plt.plot(epochs, loss, 'b')\n",
    "plt.title('MAE and Loss')\n",
    "plt.xlabel(\"Epochs\")\n",
    "plt.ylabel(\"Accuracy\")\n",
    "plt.legend([\"MAE\", \"Loss\"])\n",
    "\n",
    "plt.figure()\n",
    "\n",
    "epochs_zoom = epochs[200:]\n",
    "mae_zoom = mae[200:]\n",
    "loss_zoom = loss[200:]\n",
    "\n",
    "#------------------------------------------------\n",
    "# Plot Zoomed MAE and Loss\n",
    "#------------------------------------------------\n",
    "plt.plot(epochs_zoom, mae_zoom, 'r')\n",
    "plt.plot(epochs_zoom, loss_zoom, 'b')\n",
    "plt.title('MAE and Loss')\n",
    "plt.xlabel(\"Epochs\")\n",
    "plt.ylabel(\"Accuracy\")\n",
    "plt.legend([\"MAE\", \"Loss\"])\n",
    "\n",
    "plt.figure()"
   ]
  },
  {
   "cell_type": "code",
   "execution_count": 15,
   "metadata": {
    "id": "3CGaYFxXNEAK"
   },
   "outputs": [
    {
     "data": {
      "text/plain": [
       "<tensorflow.python.keras.callbacks.History at 0x1d5a1cf6710>"
      ]
     },
     "execution_count": 15,
     "metadata": {},
     "output_type": "execute_result"
    }
   ],
   "source": [
    "tf.keras.backend.clear_session()\n",
    "dataset = windowed_dataset(x_train, window_size, batch_size, shuffle_buffer_size)\n",
    "\n",
    "model = tf.keras.models.Sequential([\n",
    "  tf.keras.layers.Lambda(lambda x: tf.expand_dims(x, axis=-1),\n",
    "                      input_shape=[None]),\n",
    "  tf.keras.layers.Bidirectional(tf.keras.layers.LSTM(32, return_sequences=True)),\n",
    "  tf.keras.layers.Bidirectional(tf.keras.layers.LSTM(32)),\n",
    "  tf.keras.layers.Dense(1),\n",
    "  tf.keras.layers.Lambda(lambda x: x * 100.0)\n",
    "])\n",
    "\n",
    "\n",
    "model.compile(loss=\"mse\", optimizer=tf.keras.optimizers.SGD(lr=1e-6, momentum=0.9))\n",
    "model.fit(dataset,epochs=1, verbose=0)"
   ]
  },
  {
   "cell_type": "code",
   "execution_count": 16,
   "metadata": {
    "id": "FJ3R8ysauz9e"
   },
   "outputs": [
    {
     "name": "stdout",
     "output_type": "stream",
     "text": [
      "31/31 [==============================] - 6s 209ms/step - loss: 392.2631\n"
     ]
    },
    {
     "data": {
      "text/plain": [
       "<tensorflow.python.keras.callbacks.History at 0x1d5ba80ab70>"
      ]
     },
     "execution_count": 16,
     "metadata": {},
     "output_type": "execute_result"
    }
   ],
   "source": [
    "tf.keras.backend.clear_session()\n",
    "dataset = windowed_dataset(x_train, window_size, batch_size, shuffle_buffer_size)\n",
    "\n",
    "model = tf.keras.models.Sequential([\n",
    "  tf.keras.layers.Lambda(lambda x: tf.expand_dims(x, axis=-1),\n",
    "                      input_shape=[None]),\n",
    "  tf.keras.layers.Bidirectional(tf.keras.layers.LSTM(32, return_sequences=True)),\n",
    "  tf.keras.layers.Bidirectional(tf.keras.layers.LSTM(32, return_sequences=True)),\n",
    "  tf.keras.layers.Bidirectional(tf.keras.layers.LSTM(32)),\n",
    "  tf.keras.layers.Dense(1),\n",
    "  tf.keras.layers.Lambda(lambda x: x * 100.0)\n",
    "])\n",
    "\n",
    "\n",
    "model.compile(loss=\"mse\", optimizer=tf.keras.optimizers.SGD(lr=1e-6, momentum=0.9))\n",
    "model.fit(dataset,epochs=1)"
   ]
  },
  {
   "cell_type": "code",
   "execution_count": null,
   "metadata": {},
   "outputs": [],
   "source": []
  }
 ],
 "metadata": {
  "colab": {
   "collapsed_sections": [],
   "name": "S+P Week 3 Lesson 4 - LSTM.ipynb",
   "provenance": [],
   "toc_visible": true
  },
  "kernelspec": {
   "display_name": "Python 3",
   "language": "python",
   "name": "python3"
  },
  "language_info": {
   "codemirror_mode": {
    "name": "ipython",
    "version": 3
   },
   "file_extension": ".py",
   "mimetype": "text/x-python",
   "name": "python",
   "nbconvert_exporter": "python",
   "pygments_lexer": "ipython3",
   "version": "3.6.10"
  }
 },
 "nbformat": 4,
 "nbformat_minor": 1
}
